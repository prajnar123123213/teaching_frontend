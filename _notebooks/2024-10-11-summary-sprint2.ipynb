{
 "cells": [
  {
   "cell_type": "raw",
   "metadata": {},
   "source": [
    "---\n",
    "layout: post\n",
    "title: Homeworks and Popcorn Hacks for Lessons\n",
    "description: All homeworks and hacks for 3.6, 3.7\n",
    "permalink: /summary/\n",
    "courses: { csp: {week: 1} }\n",
    "comments: true\n",
    "sticky_rank: 1\n",
    "---"
   ]
  },
  {
   "cell_type": "markdown",
   "metadata": {},
   "source": [
    "<span style=\"color: pink ; font-size: 35px\"> Summary for Sprint 2 Lessons </span>\n"
   ]
  },
  {
   "cell_type": "markdown",
   "metadata": {},
   "source": [
    "<html lang=\"en\">\n",
    "<head>\n",
    "  <meta charset=\"UTF-8\">\n",
    "  <meta name=\"viewport\" content=\"width=device-width, initial-scale=1.0\">\n",
    "  <title>Summary Without Examples</title>\n",
    "  <style>\n",
    "    table {\n",
    "      width: 100%;\n",
    "      border-collapse: collapse;\n",
    "    }\n",
    "\n",
    "    table, th, td {\n",
    "      border: 1px solid black;\n",
    "    }\n",
    "\n",
    "    th, td {\n",
    "      padding: 8px;\n",
    "      text-align: left;\n",
    "    }\n",
    "\n",
    "    .expandable {\n",
    "      cursor: pointer;\n",
    "      color: green;\n",
    "      font-weight: bold;\n",
    "    }\n",
    "\n",
    "    .hidden-row {\n",
    "      display: none;\n",
    "    }\n",
    "\n",
    "    .expanded {\n",
    "      font-weight: bold;\n",
    "      color: green;\n",
    "    }\n",
    "  </style>\n",
    "</head>\n",
    "<body>\n",
    "\n",
    "<h2>Summary without Examples</h2>\n",
    "\n",
    "<table id=\"myTable\">\n",
    "  <thead>\n",
    "    <tr>\n",
    "      <th></th>\n",
    "      <th>Lesson</th>\n",
    "      <th>Topic</th>\n",
    "    </tr>\n",
    "  </thead>\n",
    "  <tbody>\n",
    "    <tr>\n",
    "      <td class=\"expandable\" onclick=\"toggleRow(1)\">+</td>\n",
    "      <td>3.5</td>\n",
    "      <td>Boolean Expressions</td>\n",
    "    </tr>\n",
    "    <tr id=\"row1\" class=\"hidden-row\">\n",
    "      <td colspan=\"3\">Booleans are true or false statements. \n",
    "\n",
    "a == b (equals)\n",
    "a != b (not equal to)\n",
    "a > b (greater than)\n",
    "a < b (less than)\n",
    "a >= b (greater than or equal to)\n",
    "a <= b (less than or equal to)\n",
    "\n",
    "Are very case sensitve, depending on how many equal signs are used \n",
    "5 !== '5' //true\n",
    "5 != '5' // false</td>\n",
    "    </tr>\n",
    "    \n",
    "    <tr>\n",
    "      <td class=\"expandable\" onclick=\"toggleRow(2)\">+</td>\n",
    "      <td>3.7</td>\n",
    "      <td>Nested Conditionals</td>\n",
    "    </tr>\n",
    "    <tr id=\"row2\" class=\"hidden-row\">\n",
    "      <td colspan=\"3\">Nested conditionals are pretty much the same if else, and they allow to check multiple conditions in a single sequence. \n",
    "This can be done by asking a user for information (See above at 3.4 for how to ask users)</td>\n",
    "    </tr>\n",
    "    \n",
    "    <tr>\n",
    "      <td class=\"expandable\" onclick=\"toggleRow(3)\">+</td>\n",
    "      <td>3.10</td>\n",
    "      <td>Lists</td>\n",
    "    </tr>\n",
    "    <tr id=\"row3\" class=\"hidden-row\">\n",
    "      <td colspan=\"3\">Lists have already been covered in 3.1 and 3.2 !\n",
    "\n",
    "Additional info: In python, index 1 is basically the second number in the list. Python starts counting at 0. </td>\n",
    "    </tr>\n",
    "  </tbody>\n",
    "</table>\n",
    "\n",
    "<script>\n",
    "  function toggleRow(rowNum) {\n",
    "    const row = document.getElementById('row' + rowNum);\n",
    "    const button = document.querySelectorAll('.expandable')[rowNum - 1];\n",
    "\n",
    "    if (row.style.display === \"none\" || row.style.display === \"\") {\n",
    "      row.style.display = \"table-row\";\n",
    "      button.textContent = \"-\"; // Change \"+\" to \"-\"\n",
    "      button.classList.add('expanded');\n",
    "    } else {\n",
    "      row.style.display = \"none\";\n",
    "      button.textContent = \"+\"; // Change \"-\" to \"+\"\n",
    "      button.classList.remove('expanded');\n",
    "    }\n",
    "  }\n",
    "</script>\n",
    "\n",
    "</body>\n",
    "</html>"
   ]
  },
  {
   "cell_type": "markdown",
   "metadata": {},
   "source": [
    "## 3.1\n",
    "\n",
    "- Variables: Help to define elemnts in your code. \n",
    "     - variable = \"whatever\" OR let variable = \"whatever\";\n",
    "     - Types include Integers, Strings, Boolean, Float, and Lists\n",
    "- JavaScript variables also fall under the same types as the Python ones. "
   ]
  },
  {
   "cell_type": "code",
   "execution_count": null,
   "metadata": {},
   "outputs": [],
   "source": [
    "# Integer\n",
    "a = 77\n",
    "\n",
    "# String\n",
    "song_lyrics = \"La la al al al al alla lalala \"\n",
    "\n",
    "# Boolean (True/ false)\n",
    "is_tall = False \n",
    "\n",
    "#Float (Integer, but decimal)\n",
    "pi = 3.1415\n",
    "\n",
    "#List\n",
    "days_in_a_week = [\"Monday\", \"Tuesday\", \"Wednesday\"]"
   ]
  },
  {
   "cell_type": "markdown",
   "metadata": {},
   "source": [
    "## 3.2 \n",
    "\n",
    "\n",
    "- Tuples: immutable (unchangable). Often used in math to signify coordinates. \n",
    "     - JavaScript : [8,12] Python: (8,12)\n",
    "- Abstractions: Allows you to add or remove things from a list or elements. \n",
    "    - JavaScript: myset.delete Python: myset.remove\n",
    "    - Javascript: ([]); Python: {\"}"
   ]
  },
  {
   "cell_type": "code",
   "execution_count": null,
   "metadata": {},
   "outputs": [],
   "source": [
    "myset = {\"orange\", \"banana\"}\n",
    "myset.add (\"apples\")\n",
    "for i in myset: \n",
    "    print (i)"
   ]
  },
  {
   "cell_type": "markdown",
   "metadata": {},
   "source": [
    "# 3.3\n",
    "\n",
    "\n",
    "\n",
    "- Easy stuff! Only thing new is MOD\n",
    "    - Python + Javascript: %"
   ]
  },
  {
   "cell_type": "code",
   "execution_count": null,
   "metadata": {},
   "outputs": [],
   "source": [
    "numb1 = 10\n",
    "numb2 = 15\n",
    "numb3 = numb1 % numb2\n",
    "print (numb3)"
   ]
  },
  {
   "cell_type": "markdown",
   "metadata": {},
   "source": [
    "# 3.4\n",
    "\n",
    "\n",
    "\n",
    "- Concat strings: Combining two variable together using +\n",
    "   - Can also prompt the user, and use the new information given to make a message. \n",
    "   - JavaScript: prompt  Python: input"
   ]
  },
  {
   "cell_type": "code",
   "execution_count": null,
   "metadata": {},
   "outputs": [],
   "source": [
    "favoriteFood = input (\"Enter your favorite food: \")\n",
    "favoriteSport = input(\"Enter your favorite sport: \")\n",
    "\n",
    "message = \"Your favorite food is \" + favoriteFood + \" and your favorite sport is \" + favoriteSport + \".\"\n",
    "\n",
    "print (message)\n"
   ]
  },
  {
   "cell_type": "markdown",
   "metadata": {},
   "source": [
    "# 3.6\n",
    " \n",
    "- If else statements are used to satsify different conditions\n",
    "    - if , elif, else (in Python) In java script, elif is typed out as 'else if'"
   ]
  },
  {
   "cell_type": "code",
   "execution_count": null,
   "metadata": {},
   "outputs": [],
   "source": [
    "a = 12\n",
    "if a > 5:\n",
    "    print (\"Greater than 5\")\n",
    "else: \n",
    "    print (\"Smaller than 5\")"
   ]
  },
  {
   "cell_type": "markdown",
   "metadata": {},
   "source": [
    "# 3.7\n",
    "\n",
    "Nested conditionls are pretty much the same if else, and they allow to check multiple conditions in a single sequence. \n",
    "This can be done by asking a user for information (See above at 3.4 for how to ask users)"
   ]
  },
  {
   "cell_type": "markdown",
   "metadata": {},
   "source": [
    "## Overall\n",
    "\n",
    "- JavaScript and Python are pretty much the same, with slight differences\n",
    "    - JavaScript requires ; to be used at the end of every statement \n",
    "    - Variables in JavaScript have a 'let' in front of them\n",
    "    - JavaScript prints with console.log \n",
    "\n",
    "- My favorite hack was from 3.6 and 3.7 when we had to make a quiz based off of a subject that we were interested in\n",
    "    - Code is very versatile, doesn't have to be used for only technical things\n"
   ]
  }
 ],
 "metadata": {
  "kernelspec": {
   "display_name": "venv",
   "language": "python",
   "name": "python3"
  },
  "language_info": {
   "codemirror_mode": {
    "name": "ipython",
    "version": 3
   },
   "file_extension": ".py",
   "mimetype": "text/x-python",
   "name": "python",
   "nbconvert_exporter": "python",
   "pygments_lexer": "ipython3",
   "version": "3.12.5"
  }
 },
 "nbformat": 4,
 "nbformat_minor": 2
}
