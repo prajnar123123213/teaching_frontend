{
 "cells": [
  {
   "cell_type": "raw",
   "metadata": {},
   "source": [
    "---\n",
    "layout: post\n",
    "title: Beneficial and Harmful Effects\n",
    "description: 5 things, N@TM, Feature, MCQ\n",
    "permalink: /final/\n",
    "courses: { csp: {week: 1} }\n",
    "comments: true\n",
    "sticky_rank: 1\n",
    "---"
   ]
  },
  {
   "cell_type": "markdown",
   "metadata": {},
   "source": [
    "Prajna"
   ]
  },
  {
   "cell_type": "markdown",
   "metadata": {},
   "source": [
    "Manahil"
   ]
  },
  {
   "cell_type": "markdown",
   "metadata": {},
   "source": [
    "Arshia"
   ]
  }
 ],
 "metadata": {
  "language_info": {
   "name": "python"
  }
 },
 "nbformat": 4,
 "nbformat_minor": 2
}
