{
 "cells": [
  {
   "cell_type": "raw",
   "metadata": {},
   "source": [
    "---\n",
    "layout: post\n",
    "title: Beneficial and Harmful Effects\n",
    "description: 5 things, N@TM, Feature, MCQ\n",
    "permalink: /teaching/\n",
    "courses: { csp: {week: 1} }\n",
    "comments: true\n",
    "sticky_rank: 1\n",
    "---"
   ]
  },
  {
   "cell_type": "markdown",
   "metadata": {},
   "source": [
    "<h1> 5.1: Beneficial and Harmful Effects </h1>\n",
    "\n",
    "CollegeBoard defines Beneficial effects as the result of advancements in communication, commerce, and programming and Harmful effects as the potential bias or misuse that may come with developing technology. Today, our group will go over examples of Beneficial, Harmful other debatable aspects of technology. \n",
    "\n",
    "# Beneficial \n",
    "\n",
    "<h3> Automated telephone trees </h3>\n",
    "\n",
    "- \n",
    "\n",
    "<h3> Science and Technology </h3>\n",
    "\n",
    "<h3> Access to Education </h3>\n",
    "\n",
    "# Harmful \n",
    "\n",
    "<h3> Digital Divide</h3>\n",
    "\n",
    "<h3> Phishing, Cybersecurity Risks </h3>\n",
    "\n",
    "<h3> Mental Health Concerns </h3>\n",
    "\n",
    "\n",
    "# Neutral (Big potential to have both Beneifical and Harmful Effects)\n",
    "\n",
    "<h3> Artificial Intelligence </h3>\n",
    "\n",
    "<h3> UAVs/ Drones </h3>\n",
    "\n",
    "<h3> Facial Recognition Technology </h3>"
   ]
  },
  {
   "cell_type": "markdown",
   "metadata": {},
   "source": [
    "Manahil"
   ]
  },
  {
   "cell_type": "markdown",
   "metadata": {},
   "source": [
    "## Homework Hacks \n",
    "- Based on the brainstorming you did during the lesson, pick a beneficial or harmful effect and in 5 sentences explain why you think this topic is beneficial of harmful? "
   ]
  }
 ],
 "metadata": {
  "language_info": {
   "name": "python"
  }
 },
 "nbformat": 4,
 "nbformat_minor": 2
}
