{
 "cells": [
  {
   "cell_type": "raw",
   "metadata": {},
   "source": [
    "---\n",
    "layout: post\n",
    "title: Beneficial and Harmful Effects\n",
    "description: 5 things, N@TM, Feature, MCQ\n",
    "permalink: /teaching/\n",
    "courses: { csp: {week: 1} }\n",
    "comments: true\n",
    "sticky_rank: 1\n",
    "---"
   ]
  },
  {
   "cell_type": "markdown",
   "metadata": {},
   "source": [
    "Prajna"
   ]
  },
  {
   "cell_type": "markdown",
   "metadata": {},
   "source": [
    "Manahil"
   ]
  },
  {
   "cell_type": "markdown",
   "metadata": {},
   "source": [
    "## Homework Hacks \n",
    "- Based on the brainstorming you did during the lesson, pick a beneficial or harmful effect and in 5 sentences explain why you think this topic is beneficial of harmful? "
   ]
  }
 ],
 "metadata": {
  "language_info": {
   "name": "python"
  }
 },
 "nbformat": 4,
 "nbformat_minor": 2
}
