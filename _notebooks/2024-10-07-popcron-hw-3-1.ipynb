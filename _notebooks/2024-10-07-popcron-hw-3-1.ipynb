{
 "cells": [
  {
   "cell_type": "raw",
   "metadata": {},
   "source": [
    "---\n",
    "layout: post\n",
    "title: Homeworks and Popcorn Hacks for Lessons\n",
    "permalink: /threedashone/\n",
    "description: All homeworks for Lessons\n",
    "courses: { csp: {week: 1} }\n",
    "comments: true\n",
    "sticky_rank: 1\n",
    "---"
   ]
  },
  {
   "cell_type": "markdown",
   "metadata": {},
   "source": [
    "## Popcorn Hacks for 3.1"
   ]
  },
  {
   "cell_type": "code",
   "execution_count": 36,
   "metadata": {},
   "outputs": [
    {
     "name": "stdout",
     "output_type": "stream",
     "text": [
      "Welcome to the Math Quiz Game!\n",
      "Answer as many questions as you can. Type 'q' to quit anytime.\n",
      "\n",
      "What is 20 - 8?\n",
      "Correct!\n",
      "What is 14 / 2?\n",
      "Correct!\n",
      "What is 2 / 8?\n",
      "Oops! The correct answer was 0.25.\n",
      "What is 9 + 8?\n",
      "Correct!\n",
      "What is 2 + 20?\n",
      "Oops! The correct answer was 22.\n",
      "What is 1 / 15?\n",
      "Goodbye! Your final score is 3.\n"
     ]
    }
   ],
   "source": [
    "import random\n",
    "\n",
    "def play_game():\n",
    "    score = 0\n",
    "    operators = ['+', '-', '*', '/']\n",
    "\n",
    "    print(\"Welcome to the Math Quiz Game!\")\n",
    "    print(\"Answer as many questions as you can. Type 'q' to quit anytime.\\n\")\n",
    "\n",
    "    while True:\n",
    "        num1 = random.randint(1, 20)\n",
    "        num2 = random.randint(1, 20)\n",
    "        op = random.choice(operators)\n",
    "        \n",
    "        if op == '+':\n",
    "            answer = num1 + num2\n",
    "        elif op == '-':\n",
    "            answer = num1 - num2\n",
    "        elif op== '*':\n",
    "            answer = num1 * num2\n",
    "        else:\n",
    "            answer = num1 / num2\n",
    "\n",
    "        print(f\"What is {num1} {op} {num2}?\")\n",
    "        player_input = input(\"Your answer (or type 'q' to quit): \")\n",
    "\n",
    "        if player_input.lower() == 'q':\n",
    "            break\n",
    "\n",
    "        try:\n",
    "            player_answer = int(player_input)\n",
    "            if player_answer == answer:\n",
    "                print(\"Correct!\")\n",
    "                score += 1\n",
    "            else:\n",
    "                print(f\"Oops! The correct answer was {answer}.\")\n",
    "        except ValueError:\n",
    "            print(\"Wrong! Please enter a number or 'q' to quit.\")\n",
    "\n",
    "    print(f\"Goodbye! Your final score is {score}.\")\n",
    "\n",
    "# Start the game\n",
    "play_game()"
   ]
  },
  {
   "cell_type": "code",
   "execution_count": 30,
   "metadata": {
    "vscode": {
     "languageId": "javascript"
    }
   },
   "outputs": [
    {
     "data": {
      "application/javascript": "\nvar myDictionary = {\n    1: \"cherry\",\n    2: \"grapes\",\n    3: \"blueberry\"\n};\n\n// Accessing a value\nconsole.log(\"Fruit with key 2:\", myDictionary[2]); // Output: fruit\n",
      "text/plain": [
       "<IPython.core.display.Javascript object>"
      ]
     },
     "metadata": {},
     "output_type": "display_data"
    }
   ],
   "source": [
    "%%javascript\n",
    "\n",
    "var myDictionary = {\n",
    "    1: \"cherry\",\n",
    "    2: \"grapes\",\n",
    "    3: \"blueberry\"\n",
    "};\n",
    "\n",
    "console.log(\"Fruit with key 2:\", myDictionary[2]); \n"
   ]
  },
  {
   "cell_type": "code",
   "execution_count": 33,
   "metadata": {
    "vscode": {
     "languageId": "javascript"
    }
   },
   "outputs": [
    {
     "name": "stderr",
     "output_type": "stream",
     "text": [
      "UsageError: Cell magic `%%` not found.\n"
     ]
    }
   ],
   "source": [
    "%%javascript\n",
    "\n",
    "function convertTemperature() {\n",
    "    let temperature = parseFloat(prompt(\"Enter the temperature:\"));\n",
    "    let conversionType = prompt(\"Choose the conversion type: 'C to F' or 'F to C'\").toLowerCase();\n",
    "    \n",
    "    let convertedTemp;\n",
    "    if (conversionType === \"c to f\") {\n",
    "        convertedTemp = (temperature * 9/5) + 32;\n",
    "        console.log(`${temperature}°C is ${convertedTemp.toFixed(2)}°F`);\n",
    "    } else if (conversionType === \"f to c\") {\n",
    "        convertedTemp = (temperature - 32) * 5/9;\n",
    "        console.log(`${temperature}°F is ${convertedTemp.toFixed(2)}°C`);\n",
    "    } else {\n",
    "        console.log(\"Invalid conversion type\");\n",
    "    }\n",
    "}\n",
    "\n",
    "convertTemperature();"
   ]
  },
  {
   "cell_type": "code",
   "execution_count": 32,
   "metadata": {},
   "outputs": [
    {
     "name": "stdout",
     "output_type": "stream",
     "text": [
      "Invalid conversion type\n"
     ]
    }
   ],
   "source": [
    "def convert_temperature():\n",
    "    temperature = float(input(\"Enter the temperature: \"))\n",
    "    conversion_type = input(\"Choose the conversion type: 'C to F' or 'F to C': \").lower()\n",
    "    \n",
    "    if conversion_type == \"c to f\":\n",
    "        converted_temp = (temperature * 9/5) + 32\n",
    "        print(f\"{temperature}°C is {converted_temp:.2f}°F\")\n",
    "    elif conversion_type == \"f to c\":\n",
    "        converted_temp = (temperature - 32) * 5/9\n",
    "        print(f\"{temperature}°F is {converted_temp:.2f}°C\")\n",
    "    else:\n",
    "        print(\"Invalid conversion type\")\n",
    "\n",
    "convert_temperature()"
   ]
  },
  {
   "cell_type": "markdown",
   "metadata": {},
   "source": [
    "## Popcorn Hacks for 3.4"
   ]
  },
  {
   "cell_type": "code",
   "execution_count": 31,
   "metadata": {
    "vscode": {
     "languageId": "javascript"
    }
   },
   "outputs": [
    {
     "ename": "SyntaxError",
     "evalue": "invalid syntax (3856441317.py, line 3)",
     "output_type": "error",
     "traceback": [
      "\u001b[0;36m  Cell \u001b[0;32mIn[31], line 3\u001b[0;36m\u001b[0m\n\u001b[0;31m    let favoriteMovie = \"The Grinch\";\u001b[0m\n\u001b[0m        ^\u001b[0m\n\u001b[0;31mSyntaxError\u001b[0m\u001b[0;31m:\u001b[0m invalid syntax\n"
     ]
    }
   ],
   "source": [
    "%javascript\n",
    "\n",
    "let favoriteMovie = \"The Grinch\";\n",
    "let favoriteSport = \"basketball\";\n",
    "let petName = \"Coco\";\n",
    "\n",
    "\n",
    "let concatenatedMessage = \"My favorite sport is \" + favoriteSport + \". I love my dog \" + petName + \".\";\n",
    "\n",
    "\n",
    "let interpolatedMessage = `My favorite sport is ${favoriteSport} and my dog is ${petName}.`;\n",
    "\n",
    "\n",
    "console.log(concatenatedMessage);\n",
    "console.log(interpolatedMessage);"
   ]
  },
  {
   "cell_type": "code",
   "execution_count": null,
   "metadata": {
    "vscode": {
     "languageId": "javascript"
    }
   },
   "outputs": [
    {
     "data": {
      "application/javascript": "\n\n// Define string\nlet phrase = \"A journey of a thousand miles begins with a single step\";\n\n// Extraction\nlet partOne = phrase.slice(2, 9);       // Extracts \"journey\"\nlet partTwo = phrase.slice(-26, -20);   // Extracts \"miles\" using negative index\nlet remainder = phrase.slice(31);       // Extracts from \"begins\" to the end\n\n// Output\nconsole.log(partOne);    // Output: journey\nconsole.log(partTwo);    // Output: miles\nconsole.log(remainder);  // Output: begins with a single step\n\n",
      "text/plain": [
       "<IPython.core.display.Javascript object>"
      ]
     },
     "metadata": {},
     "output_type": "display_data"
    }
   ],
   "source": [
    "%%js\n",
    "\n",
    "\n",
    "\n",
    "let phrase = \"A journey of a thousand miles begins with a single step\";\n",
    "\n",
    "\n",
    "let partOne = phrase.slice(2, 9);       // Extracts \"journey\"\n",
    "let partTwo = phrase.slice(-26, -20);   // Extracts \"miles\" using negative index\n",
    "let remainder = phrase.slice(31);       // Extracts from \"begins\" to the end\n",
    "\n",
    "console.log(partOne);    // Output: journey\n",
    "console.log(partTwo);    // Output: miles\n",
    "console.log(remainder);  // Output: begins with a single step\n",
    "\n"
   ]
  },
  {
   "cell_type": "code",
   "execution_count": null,
   "metadata": {},
   "outputs": [
    {
     "name": "stdout",
     "output_type": "stream",
     "text": [
      "I eoy leig ytho!\n",
      "cats are pets favorite My\n"
     ]
    }
   ],
   "source": [
    "def remove_myname(input_str):\n",
    "    name = \"prajnaPRAJNA\"\n",
    "    result = ''.join([char for char in input_str if char not in name])\n",
    "    return result\n",
    "\n",
    "sentence = \"I enjoy learning Python!\"\n",
    "print(remove_myname(sentence))\n",
    "\n",
    "def reverse_words(input_str):\n",
    "    words = input_str.split()\n",
    "    reversed_words = \" \".join(words[::-1])\n",
    "    return reversed_words\n",
    "\n",
    "sentence = \"My favorite pets are cats\"\n",
    "print(reverse_words(sentence))\n",
    "\n"
   ]
  },
  {
   "cell_type": "code",
   "execution_count": 35,
   "metadata": {},
   "outputs": [
    {
     "name": "stdout",
     "output_type": "stream",
     "text": [
      "Invalid price. Enter a valid number.\n",
      "\n",
      "Your Shopping List:\n",
      "tomatoes: $2.00\n",
      "potato: $4.00\n",
      "\n",
      "Total cost: $6.00\n"
     ]
    }
   ],
   "source": [
    "shopping_list = []\n",
    "total_cost = 0\n",
    "\n",
    "while True:\n",
    "    item_name = input(\"Enter the name of grocery(or type 'done' to finish): \")\n",
    "    \n",
    "    if item_name.lower() == 'done':\n",
    "        break\n",
    "    \n",
    "    try:\n",
    "        item_price = float(input(f\"What is the price of {item_name}: $\"))\n",
    "    except ValueError:\n",
    "        print(\"Invalid price. Enter a valid number.\")\n",
    "        continue\n",
    "    \n",
    "    shopping_list.append({\"name\": item_name, \"price\": item_price})\n",
    "    \n",
    "    total_cost += item_price\n",
    "\n",
    "print(\"\\nYour Shopping List:\")\n",
    "for item in shopping_list:\n",
    "    print(f\"{item['name']}: ${item['price']:.2f}\")\n",
    "\n",
    "print(f\"\\nTotal cost: ${total_cost:.2f}\")\n"
   ]
  },
  {
   "cell_type": "markdown",
   "metadata": {},
   "source": [
    "## Homework for 3.1"
   ]
  },
  {
   "cell_type": "code",
   "execution_count": 34,
   "metadata": {
    "vscode": {
     "languageId": "javascript"
    }
   },
   "outputs": [
    {
     "data": {
      "application/javascript": "\n\nconst conversionRates = {\n    cup_to_tablespoons: 16,\n    tablespoon_to_teaspoons: 3,\n    cup_to_teaspoons: 48\n};\n\n\nlet ingredients = [];\n\nwhile (true) {\n    let ingredientName = prompt(\"Enter the name of the ingredient (or type 'done' to finish):\");\n    \n    if (ingredientName.toLowerCase() === \"done\") {\n        break;\n    }\n    \n    let quantity = parseFloat(prompt(`Enter the quantity for ${ingredientName}:`));\n    if (isNaN(quantity)) {\n        alert(\"Invalid quantity. Please enter a number.\");\n        continue;\n    }\n    \n    let currentUnit = prompt(\"Enter the current unit (cups, tablespoons, teaspoons):\").toLowerCase();\n    if ([\"cups\", \"tablespoons\", \"teaspoons\"].indexOf(currentUnit) === -1) {\n        alert(\"Invalid unit. Please enter 'cups', 'tablespoons', or 'teaspoons'.\");\n        continue;\n    }\n    \n    let desiredUnit = prompt(\"Enter the desired unit to convert to (cups, tablespoons, teaspoons):\").toLowerCase();\n    if ([\"cups\", \"tablespoons\", \"teaspoons\"].indexOf(desiredUnit) === -1) {\n        alert(\"Invalid unit. Please enter 'cups', 'tablespoons', or 'teaspoons'.\");\n        continue;\n    }\n    \n    \n    let convertedQuantity;\n    \n    if (currentUnit === \"cups\") {\n        if (desiredUnit === \"tablespoons\") {\n            convertedQuantity = quantity * conversionRates.cup_to_tablespoons;\n        } else if (desiredUnit === \"teaspoons\") {\n            convertedQuantity = quantity * conversionRates.cup_to_teaspoons;\n        } else {\n            convertedQuantity = quantity; \n        }\n    } else if (currentUnit === \"tablespoons\") {\n        if (desiredUnit === \"cups\") {\n            convertedQuantity = quantity / conversionRates.cup_to_tablespoons;\n        } else if (desiredUnit === \"teaspoons\") {\n            convertedQuantity = quantity * conversionRates.tablespoon_to_teaspoons;\n        } else {\n            convertedQuantity = quantity; \n        }\n    } else if (currentUnit === \"teaspoons\") {\n        if (desiredUnit === \"cups\") {\n            convertedQuantity = quantity / conversionRates.cup_to_teaspoons;\n        } else if (desiredUnit === \"tablespoons\") {\n            convertedQuantity = quantity / conversionRates.tablespoon_to_teaspoons;\n        } else {\n            convertedQuantity = quantity;  \n        }\n    }\n    \n   \n    ingredients.push({\n        name: ingredientName,\n        originalQuantity: quantity,\n        originalUnit: currentUnit,\n        convertedQuantity: convertedQuantity,\n        convertedUnit: desiredUnit\n    });\n}\n\n\nconsole.log(\"\\nConverted Ingredients:\");\ningredients.forEach(ingredient => {\n    console.log(`${ingredient.name}: ${ingredient.originalQuantity} ${ingredient.originalUnit} = ${ingredient.convertedQuantity.toFixed(2)} ${ingredient.convertedUnit}`);\n});\n",
      "text/plain": [
       "<IPython.core.display.Javascript object>"
      ]
     },
     "metadata": {},
     "output_type": "display_data"
    }
   ],
   "source": [
    "%%javascript\n",
    "\n",
    "\n",
    "const conversionRates = {\n",
    "    cup_to_tablespoons: 16,\n",
    "    tablespoon_to_teaspoons: 3,\n",
    "    cup_to_teaspoons: 48\n",
    "};\n",
    "\n",
    "\n",
    "let ingredients = [];\n",
    "\n",
    "while (true) {\n",
    "    let ingredientName = prompt(\"Enter the name of the ingredient (or type 'done' to finish):\");\n",
    "    \n",
    "    if (ingredientName.toLowerCase() === \"done\") {\n",
    "        break;\n",
    "    }\n",
    "    \n",
    "    let quantity = parseFloat(prompt(`Enter the quantity for ${ingredientName}:`));\n",
    "    if (isNaN(quantity)) {\n",
    "        alert(\"Invalid quantity. Please enter a number.\");\n",
    "        continue;\n",
    "    }\n",
    "    \n",
    "    let currentUnit = prompt(\"Enter the current unit (cups, tablespoons, teaspoons):\").toLowerCase();\n",
    "    if ([\"cups\", \"tablespoons\", \"teaspoons\"].indexOf(currentUnit) === -1) {\n",
    "        alert(\"Invalid unit. Please enter 'cups', 'tablespoons', or 'teaspoons'.\");\n",
    "        continue;\n",
    "    }\n",
    "    \n",
    "    let desiredUnit = prompt(\"Enter the desired unit to convert to (cups, tablespoons, teaspoons):\").toLowerCase();\n",
    "    if ([\"cups\", \"tablespoons\", \"teaspoons\"].indexOf(desiredUnit) === -1) {\n",
    "        alert(\"Invalid unit. Please enter 'cups', 'tablespoons', or 'teaspoons'.\");\n",
    "        continue;\n",
    "    }\n",
    "    \n",
    "    \n",
    "    let convertedQuantity;\n",
    "    \n",
    "    if (currentUnit === \"cups\") {\n",
    "        if (desiredUnit === \"tablespoons\") {\n",
    "            convertedQuantity = quantity * conversionRates.cup_to_tablespoons;\n",
    "        } else if (desiredUnit === \"teaspoons\") {\n",
    "            convertedQuantity = quantity * conversionRates.cup_to_teaspoons;\n",
    "        } else {\n",
    "            convertedQuantity = quantity; \n",
    "        }\n",
    "    } else if (currentUnit === \"tablespoons\") {\n",
    "        if (desiredUnit === \"cups\") {\n",
    "            convertedQuantity = quantity / conversionRates.cup_to_tablespoons;\n",
    "        } else if (desiredUnit === \"teaspoons\") {\n",
    "            convertedQuantity = quantity * conversionRates.tablespoon_to_teaspoons;\n",
    "        } else {\n",
    "            convertedQuantity = quantity; \n",
    "        }\n",
    "    } else if (currentUnit === \"teaspoons\") {\n",
    "        if (desiredUnit === \"cups\") {\n",
    "            convertedQuantity = quantity / conversionRates.cup_to_teaspoons;\n",
    "        } else if (desiredUnit === \"tablespoons\") {\n",
    "            convertedQuantity = quantity / conversionRates.tablespoon_to_teaspoons;\n",
    "        } else {\n",
    "            convertedQuantity = quantity;  \n",
    "        }\n",
    "    }\n",
    "    \n",
    "   \n",
    "    ingredients.push({\n",
    "        name: ingredientName,\n",
    "        originalQuantity: quantity,\n",
    "        originalUnit: currentUnit,\n",
    "        convertedQuantity: convertedQuantity,\n",
    "        convertedUnit: desiredUnit\n",
    "    });\n",
    "}\n",
    "\n",
    "\n",
    "console.log(\"\\nConverted Ingredients:\");\n",
    "ingredients.forEach(ingredient => {\n",
    "    console.log(`${ingredient.name}: ${ingredient.originalQuantity} ${ingredient.originalUnit} = ${ingredient.convertedQuantity.toFixed(2)} ${ingredient.convertedUnit}`);\n",
    "});"
   ]
  },
  {
   "cell_type": "markdown",
   "metadata": {},
   "source": [
    "## Homework for 3.4"
   ]
  },
  {
   "cell_type": "code",
   "execution_count": null,
   "metadata": {
    "vscode": {
     "languageId": "javascript"
    }
   },
   "outputs": [
    {
     "data": {
      "application/javascript": "\nlet firstName = \"Prajna\";\nlet lastName = \"Raj\";\n\n// Using string concatenation\nlet greetingConcatenation = \"Hello, I'm \" + firstName + \" \" + lastName + \"!\";\nconsole.log(greetingConcatenation);  // Output: Hello, Prajna Raj!\n",
      "text/plain": [
       "<IPython.core.display.Javascript object>"
      ]
     },
     "metadata": {},
     "output_type": "display_data"
    }
   ],
   "source": [
    "%%javascript\n",
    "\n",
    "let firstName = \"Prajna\";\n",
    "let lastName = \"Raj\";\n",
    "\n",
    "let greetingConcatenation = \"Hello, I'm \" + firstName + \" \" + lastName + \"!\";\n",
    "console.log(greetingConcatenation); \n"
   ]
  },
  {
   "cell_type": "code",
   "execution_count": null,
   "metadata": {},
   "outputs": [
    {
     "name": "stdout",
     "output_type": "stream",
     "text": [
      "'racecar' is a palindrome!\n"
     ]
    }
   ],
   "source": [
    "def is_palindrome(input_string):\n",
    "    cleaned_string = input_string.replace(\" \", \"\").lower()\n",
    "    if cleaned_string == cleaned_string[::-1]:\n",
    "        return True\n",
    "    else:\n",
    "        return False\n",
    "\n",
    "\n",
    "user_input = input(\"Enter a word or phrase: \")\n",
    "if is_palindrome(user_input):\n",
    "    print(f\"'{user_input}' is a palindrome!\")\n",
    "else:\n",
    "    print(f\"'{user_input}' is not a palindrome.\")\n"
   ]
  }
 ],
 "metadata": {
  "kernelspec": {
   "display_name": "venv",
   "language": "python",
   "name": "python3"
  },
  "language_info": {
   "codemirror_mode": {
    "name": "ipython",
    "version": 3
   },
   "file_extension": ".py",
   "mimetype": "text/x-python",
   "name": "python",
   "nbconvert_exporter": "python",
   "pygments_lexer": "ipython3",
   "version": "3.12.5"
  }
 },
 "nbformat": 4,
 "nbformat_minor": 2
}
