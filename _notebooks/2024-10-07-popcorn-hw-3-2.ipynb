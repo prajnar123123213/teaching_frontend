{
 "cells": [
  {
   "cell_type": "raw",
   "metadata": {},
   "source": [
    "---\n",
    "layout: post\n",
    "title: Homeworks and Popcorn Hacks for Lessons\n",
    "description: All homeworks for Lessons\n",
    "permalink: /threedashtwo/\n",
    "courses: { csp: {week: 1} }\n",
    "comments: true\n",
    "sticky_rank: 1\n",
    "---"
   ]
  },
  {
   "cell_type": "markdown",
   "metadata": {},
   "source": [
    "## Popcorn Hacks for 3.2"
   ]
  },
  {
   "cell_type": "code",
   "execution_count": 2,
   "metadata": {},
   "outputs": [],
   "source": [
    "NumberOne= \"enter number here\"\n",
    "NumberTwo= \"enter number here\"\n",
    "Operation= \"enter operation here\"\n",
    "\n",
    "if Operation == \"+\":\n",
    "    print (NumberOne + NumberTwo)\n",
    "if Operation == \"-\":\n",
    "     print (NumberOne - NumberTwo)\n",
    "if Operation == \"*\":\n",
    "    print (NumberOne * NumberTwo)\n",
    "if Operation == \"/\":\n",
    "    print (NumberOne / NumberTwo)"
   ]
  },
  {
   "cell_type": "code",
   "execution_count": null,
   "metadata": {},
   "outputs": [],
   "source": [
    "def repeat_strings(strings, n):\n",
    "    return [string * n for string in strings]\n",
    "\n",
    "# Example usage\n",
    "strings = [\"apple\", \"grapes\", \"cherry\"]\n",
    "n = 3\n",
    "result = repeat_strings(strings, n)\n",
    "print(result)"
   ]
  },
  {
   "cell_type": "code",
   "execution_count": 6,
   "metadata": {},
   "outputs": [
    {
     "name": "stdout",
     "output_type": "stream",
     "text": [
      "True\n"
     ]
    }
   ],
   "source": [
    "\n",
    "def check_common_value(set1, set2):\n",
    "    return any(value in set1 for value in set2)\n",
    "\n",
    "set1 = {1, 2, 3, 4}\n",
    "set2 = {5, 6, 3}\n",
    "result = check_common_value(set1, set2)\n",
    "print(result) \n"
   ]
  },
  {
   "cell_type": "markdown",
   "metadata": {},
   "source": [
    "## Homework "
   ]
  },
  {
   "cell_type": "code",
   "execution_count": 45,
   "metadata": {},
   "outputs": [
    {
     "name": "stdout",
     "output_type": "stream",
     "text": [
      "My profile: {'name': 'Prajna', 'age': 15, 'city': 'San Diego', 'favorite_color': 'Green'}\n",
      "My hobbies! ['walking', 'cooking', 'playing music']\n",
      "My New Profile: {'name': 'Prajna', 'age': 15, 'city': 'San Diego', 'favorite_color': 'Green', 'hobbies': ['walking', 'cooking', 'playing music']}\n",
      "Is walking available today? True\n",
      "I have 3 hobbies\n",
      "My Favorites: ('Cooking', 'Walking')\n",
      "My Skills: {'Baking', 'Singing'}\n",
      "new skill: None\n",
      "Costs for hobbies and skills: $13.00\n"
     ]
    }
   ],
   "source": [
    "profile = {\n",
    "    \"name\": \"Prajna\",\n",
    "    \"age\": 15,\n",
    "    \"city\": \"San Diego\",\n",
    "    \"favorite_color\": \"Green\"\n",
    "}\n",
    "print (\"My profile:\", profile)\n",
    "\n",
    "hobbies= [\"walking\", \"cooking\", \"playing music\"]\n",
    "print (\"My hobbies!\", hobbies)\n",
    "\n",
    "profile[\"hobbies\"] = hobbies\n",
    "print (\"My New Profile:\", profile)\n",
    "\n",
    "is_weather_good = True\n",
    "has_hobby= is_weather_good\n",
    "print (f\"Is walking available today? {has_hobby}\")\n",
    "\n",
    "total_hobbies = 3\n",
    "print (f\"I have {total_hobbies} hobbies\")\n",
    "\n",
    "favorite_hobbies = (\"Cooking\", \"Walking\")\n",
    "print (\"My Favorites:\", favorite_hobbies)\n",
    "\n",
    "skills = {\"Baking\", \"Singing\"}\n",
    "print (\"My Skills:\", skills)\n",
    "profile[\"skills\"] = skills\n",
    "\n",
    "new_skill = None\n",
    "print (\"new skill:\", new_skill)\n",
    "\n",
    "total_cost = float(len(hobbies) * 3 + len(skills) * 2)\n",
    "print (f\"Costs for hobbies and skills: ${total_cost:.2f}\")"
   ]
  },
  {
   "cell_type": "code",
   "execution_count": 47,
   "metadata": {
    "vscode": {
     "languageId": "javascript"
    }
   },
   "outputs": [
    {
     "data": {
      "application/javascript": "\nlet profile = {\n    name: \"Prajna\",\n    age: 15,\n    city: \"San Diego\",\n    favorite_color: \"Green\"\n};\n\nconsole.log(\"My profile:\", profile);\n\nlet hobbies = [\"walking\", \"cooking\", \"playing music\"];\nconsole.log(\"My hobbies!\", hobbies);\n\nprofile.hobbies = hobbies;\nconsole.log(\"My New Profile:\", profile);\n\nlet isWeatherGood = true;\nlet hasHobby = isWeatherGood;\nconsole.log(`Is walking available today? ${hasHobby}`);\n\nlet totalHobbies = 3;\nconsole.log(`I have ${totalHobbies} hobbies`);\n\nlet favoriteHobbies = [\"Cooking\", \"Walking\"];\nconsole.log(\"My Favorites:\", favoriteHobbies);\n\nlet skills = new Set([\"Baking\", \"Singing\"]);\nconsole.log(\"My Skills:\", Array.from(skills));\n\nprofile.skills = Array.from(skills);\nconsole.log(\"My New Profile with skills:\", profile);\n\nlet newSkill = null;\nconsole.log(\"New skill:\", newSkill);\n\nlet totalCost = (hobbies.length * 3) + (skills.size * 2);\nconsole.log(`Costs for hobbies and skills: $${totalCost.toFixed(2)}`);\n",
      "text/plain": [
       "<IPython.core.display.Javascript object>"
      ]
     },
     "metadata": {},
     "output_type": "display_data"
    }
   ],
   "source": [
    "%%javascript\n",
    "\n",
    "let profile = {\n",
    "    name: \"Prajna\",\n",
    "    age: 15,\n",
    "    city: \"San Diego\",\n",
    "    favorite_color: \"Green\"\n",
    "};\n",
    "\n",
    "console.log(\"My profile:\", profile);\n",
    "\n",
    "let hobbies = [\"walking\", \"cooking\", \"playing music\"];\n",
    "console.log(\"My hobbies!\", hobbies);\n",
    "\n",
    "profile.hobbies = hobbies;\n",
    "console.log(\"My New Profile:\", profile);\n",
    "\n",
    "let isWeatherGood = true;\n",
    "let hasHobby = isWeatherGood;\n",
    "console.log(`Is walking available today? ${hasHobby}`);\n",
    "\n",
    "let totalHobbies = 3;\n",
    "console.log(`I have ${totalHobbies} hobbies`);\n",
    "\n",
    "let favoriteHobbies = [\"Cooking\", \"Walking\"];\n",
    "console.log(\"My Favorites:\", favoriteHobbies);\n",
    "\n",
    "let skills = new Set([\"Baking\", \"Singing\"]);\n",
    "console.log(\"My Skills:\", Array.from(skills));\n",
    "\n",
    "profile.skills = Array.from(skills);\n",
    "console.log(\"My New Profile with skills:\", profile);\n",
    "\n",
    "let newSkill = null;\n",
    "console.log(\"New skill:\", newSkill);\n",
    "\n",
    "let totalCost = (hobbies.length * 3) + (skills.size * 2);\n",
    "console.log(`Costs for hobbies and skills: $${totalCost.toFixed(2)}`);"
   ]
  },
  {
   "cell_type": "markdown",
   "metadata": {},
   "source": [
    "## Extra Credit Quizziz: "
   ]
  },
  {
   "cell_type": "code",
   "execution_count": null,
   "metadata": {
    "vscode": {
     "languageId": "html"
    }
   },
   "outputs": [],
   "source": [
    "<a href=\"https://docs.google.com/document/d/1YNEk4kr5aJC-7O54KntJXViz9h5lSeF1LD-Als5AdyI/edit?usp=sharing\">Screenshot of Quizziz results</a>"
   ]
  }
 ],
 "metadata": {
  "kernelspec": {
   "display_name": "venv",
   "language": "python",
   "name": "python3"
  },
  "language_info": {
   "codemirror_mode": {
    "name": "ipython",
    "version": 3
   },
   "file_extension": ".py",
   "mimetype": "text/x-python",
   "name": "python",
   "nbconvert_exporter": "python",
   "pygments_lexer": "ipython3",
   "version": "3.12.5"
  }
 },
 "nbformat": 4,
 "nbformat_minor": 2
}
