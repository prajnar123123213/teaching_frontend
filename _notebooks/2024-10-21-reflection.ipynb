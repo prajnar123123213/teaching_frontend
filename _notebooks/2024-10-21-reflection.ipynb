{
 "cells": [
  {
   "cell_type": "raw",
   "metadata": {},
   "source": [
    "---\n",
    "layout: post\n",
    "title: Reflection for Sprint 2\n",
    "description: Reflection\n",
    "permalink: /reflection/\n",
    "courses: { csp: {week: 1} }\n",
    "comments: true\n",
    "sticky_rank: 1\n",
    "---"
   ]
  },
  {
   "cell_type": "markdown",
   "metadata": {},
   "source": [
    "## Grades\n",
    "\n",
    "- 3.10: 0.89\n",
    "- 3.2: Didn't have spreadsheet linked\n",
    "- 3.1/ 3.4: 0.88\n",
    "- 3.3/3.5: 0.9\n",
    "- 3.6//3.7: 0.9\n",
    "\n",
    "## Proof of my grading\n",
    "I helped make the grading issue, and all grading was done together as a group."
   ]
  },
  {
   "cell_type": "markdown",
   "metadata": {},
   "source": [
    "\"https://github.com/prajnar123123213/prajna_2025/issues/7#issue-2581843862\""
   ]
  },
  {
   "cell_type": "markdown",
   "metadata": {},
   "source": [
    "| **Skill**                  | **Points**    | **Grade** | **Evidence** |\n",
    "|----------------------------|---------------|-----------|--------------|\n",
    "| Work Habits (Analytics)    |   1           |     1      |      <img width=\"912\" alt=\"Screenshot 2024-10-13 at 4 08 21 PM\" src=\"https://github.com/user-attachments/assets/4c0637e3-8024-47ba-9d50-b0c74dea7474\"> |\n",
    "| Team Planning (Issue)      |   1           |      1     |  <img width=\"636\" alt=\"Screenshot 2024-10-13 at 4 05 34 PM\" src=\"https://github.com/user-attachments/assets/4ca9d023-c19a-446d-ad47-00b3db3790fc\">            |\n",
    "| Presentation Memories      |   1           |      1     |    Don't have a screenshot or picture of this, but I was present when we did presenting, I walked around the class to help with Popcorn Hacks and tried to project my voice as much as possible.          |\n",
    "| Grading and Feedback       |   1           |      1     |      <img width=\"1108\" alt=\"Screenshot 2024-10-13 at 4 05 03 PM\" src=\"https://github.com/user-attachments/assets/e5b46598-dabc-4c74-a0ea-ad5c3bbb2f2c\">     |\n",
    "| Beyond Perfunctory         |   1           |    0       |        Our website was mostly just simple, there wasn't a lot that we did to go above and beyond. However, we were able to change the font colors and sizes without messing up the config.yml  <img width=\"457\" alt=\"Screenshot 2024-10-13 at 4 10 01 PM\" src=\"https://github.com/user-attachments/assets/65c482e5-10df-4f54-b373-0a4c07af0f95\">    |\n",
    "\n",
    "\n",
    " | **Assignment**          | **Weightage** | **Grade** | **Comments** |\n",
    "|-------------------------|---------------|-----------|--------------|\n",
    "| College Board Coverage  | 20            | 20       | Our topic was Iterations and how to do different types of loops. I think we covered all of the important stuff, and we had multiple examples with both JavaScript and Python. We put in a lot of effort and research for this, and I think we hit all the main points.          |\n",
    "| Python Examples         | 15            | 15      | We had a Python example for every subsection that we covered. A lot of our homework also required the usage of Python.         |\n",
    "| JavaScript Examples     | 15            | 15      | Similar to Python, all of our subsections had a JavaScript example, usually just the same as Python to show how similar the two languages are when doing Iterations. |\n",
    "| Popcorn Hack Usage      | 10            | 10      | We had multiple popcorn hacks for each of the 4 sections, all of them done in between a new topic that we taught. I think these were efficient because it helped to re-enforce the stuff students just learned.           |\n",
    "| Homework                | 10            | 8       | We didn't follow the instructions for the Homework hacks as much as we should've. We did have homework, but instead of having one big hack that combined all of the 4 sections we went over, we had a different homework for every section. (3.8.1 had hw, 3.8.2 had hw, etc).           |\n",
    "| Grading Plan            | 10            | 10     | We made an issue with the grading plan linked it in the class spreadsheet, and followed all the instructions given to us by the Scrum master.     |\n",
    "| Original an Creative    | 10            | 10       |  Our formatting and examples are all original, we also took liberty with the fonts and customized them to make it look cute. We also included loops that weren't part of the College Board Coverage and showed different ways to use iterations in day-to-day programming.      |\n",
    "| **Total**               | **90**        |       85    |              |\n",
    "\n",
    "\n",
    "| **Assignment**             | **Points**    | **Grade** | **Evidence** |\n",
    "|----------------------------|---------------|-----------|--------------|\n",
    "| Baseline Grade             | 55%           |           |              |\n",
    "| Max Grade                  | 90%           |           |              |\n",
    "| Pull Request (Integration) | 1             |      1    |       <img width=\"813\" alt=\"Screenshot 2024-10-13 at 10 25 31 PM\" src=\"https://github.com/user-attachments/assets/35dab5f2-3eef-43dc-aeed-c27cda6907f2\">  |\n",
    "| Relevancy Checklist (Peer) | 2             |        2   |      <img width=\"817\" alt=\"Screenshot 2024-10-13 at 10 26 43 PM\" src=\"https://github.com/user-attachments/assets/bbbf0f5e-1a6d-420b-b3b3-2d58a61bd149\">   |\n",
    "| Lesson Style (Period)      | 1             |     0    |   I did not contribute a lot of the overall lesson style of the period, and I think most of it was done by the class Scrum Master.  |\n",
    "| Homework, Popcorn Hacks    | 1 x 5         |      5     |         <img width=\"897\" alt=\"Screenshot 2024-10-13 at 10 27 22 PM\" src=\"https://github.com/user-attachments/assets/6b5c5852-71f7-4a6a-83db-e9fb8a21ea73\">  I wasn't able to screenshot all of them, but this picture is an example of how our popcorn hack and homework go hand in hand.    |\n",
    "| Individual Contribution    | 1             |      1     |      <img width=\"843\" alt=\"Screenshot 2024-10-13 at 10 28 21 PM\" src=\"https://github.com/user-attachments/assets/b9c0b0bd-caba-431f-a554-6dcb2c70c3f1\">        |\n",
    "| Personal Notebooks / Blogs | 1             |      1     |      <img width=\"314\" alt=\"Screenshot 2024-10-13 at 10 28 47 PM\" src=\"https://github.com/user-attachments/assets/435775c6-320b-42ec-ada2-17f24a742485\">  |\n",
    "| Total                      | 11            |   10        |              |\n",
    "\n",
    "- I know all my units because I was able to complete most of the popcorn hacks and homework assigned by myself. If I did use Chat GPT, it was only for clarifications, and not to copy the entire code. Furthermore, most of the information across the lessons is repeated multiple times, and I can summarize the main topics. (Variables including boolean values and math, strings, loops). \n",
    "\n",
    "- I created a summary in my blogs by making a submenu that links all of my notebooks for the popcorn hacks and homework in one page. At the end of the submenu, I have a summary link, that leads to all the important takeaways form each lesson. I have boxes of code supplemented at the end of each markdown box for the concepts that I struggled with, so I can come back and review them when I'm struggling. \n",
    "\n",
    "- On my learning journey, I always tried to go above and beyond. For example, when the other groups had optional homework, I always did it to the best of my ability. (For ex: translate your python into javascript). Furthermore, in the lesson that I created, I provided templates for both JavaScript and Python, and did my research for how to do both types instead of just making it a popcorn hack. \n",
    "\n",
    "- My memories from my homework/learning were making games that allow you to interact with the code. It was the most fun part about coding, and it's satisfying to see everything work the way it's supposed to. \n",
    "\n",
    "-  My work is unique and genuine because even though I worked with my team and we have some similartites in our website, I made sure to make it unique to my needs. My table and summaries were not the exact same as my other group members. \n"
   ]
  }
 ],
 "metadata": {
  "language_info": {
   "name": "python"
  }
 },
 "nbformat": 4,
 "nbformat_minor": 2
}
