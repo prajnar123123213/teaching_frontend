{
 "cells": [
  {
   "cell_type": "raw",
   "metadata": {},
   "source": [
    "---\n",
    "layout: post\n",
    "title: Homeworks and Popcorn Hacks for Lessons\n",
    "description: All homeworks and hacks for 3.3, 3.5\n",
    "permalink: /threedashthreefive/\n",
    "courses: { csp: {week: 1} }\n",
    "comments: true\n",
    "sticky_rank: 1\n",
    "---"
   ]
  },
  {
   "cell_type": "markdown",
   "metadata": {},
   "source": [
    "## Popcorn Hacks for 3.3"
   ]
  },
  {
   "cell_type": "code",
   "execution_count": 6,
   "metadata": {},
   "outputs": [
    {
     "name": "stdout",
     "output_type": "stream",
     "text": [
      "50\n",
      "-30\n",
      "400\n",
      "0.25\n",
      "10\n"
     ]
    }
   ],
   "source": [
    "a = 10\n",
    "b = 40\n",
    "\n",
    "print ( a + b )\n",
    "print ( a - b )\n",
    "print ( a * b )\n",
    "print ( a / b )\n",
    "print ( a % b )\n",
    "\n"
   ]
  },
  {
   "cell_type": "code",
   "execution_count": 9,
   "metadata": {
    "vscode": {
     "languageId": "javascript"
    }
   },
   "outputs": [
    {
     "data": {
      "application/javascript": "\nlet a = 10;\nlet b = 40;\n\nconsole.log(a + b);\nconsole.log(a - b);\nconsole.log(a * b);\nconsole.log(a / b);\nconsole.log(a % b);\n\n",
      "text/plain": [
       "<IPython.core.display.Javascript object>"
      ]
     },
     "metadata": {},
     "output_type": "display_data"
    }
   ],
   "source": [
    "%%javascript\n",
    "\n",
    "let a = 10;\n",
    "let b = 40;\n",
    "\n",
    "console.log(a + b);\n",
    "console.log(a - b);\n",
    "console.log(a * b);\n",
    "console.log(a / b);\n",
    "console.log(a % b);\n",
    "\n"
   ]
  },
  {
   "cell_type": "code",
   "execution_count": 7,
   "metadata": {},
   "outputs": [
    {
     "name": "stdout",
     "output_type": "stream",
     "text": [
      "The 30th Fibonacci number is: 514229\n"
     ]
    }
   ],
   "source": [
    "def fibonacc(n):\n",
    "    if n <= 0:\n",
    "        return \"invalid\"\n",
    "    elif n == 1:\n",
    "        return 0\n",
    "    elif n == 2:\n",
    "        return 1\n",
    "    else:\n",
    "        return fibonacc(n - 1) + fibonacc(n - 2)\n",
    "\n",
    "\n",
    "n = 30\n",
    "print(f\"The {n}th Fibonacci number is: {fibonacc(n)}\")"
   ]
  },
  {
   "cell_type": "code",
   "execution_count": 11,
   "metadata": {
    "vscode": {
     "languageId": "javascript"
    }
   },
   "outputs": [
    {
     "data": {
      "application/javascript": "\nfunction fibonacci(n) {\n    if (n <= 0) {\n        return \"invalid\";\n    } else if (n === 1) {\n        return 0;\n    } else if (n === 2) {\n        return 1;\n    } else {\n        return fibonacci(n - 1) + fibonacci(n - 2);\n    }\n}\n\nlet n = 30;\nconsole.log(`The ${n}th Fibonacci number is: ${fibonacci(n)}`);\n",
      "text/plain": [
       "<IPython.core.display.Javascript object>"
      ]
     },
     "metadata": {},
     "output_type": "display_data"
    }
   ],
   "source": [
    "%%javascript\n",
    "\n",
    "function fibonacci(n) {\n",
    "    if (n <= 0) {\n",
    "        return \"invalid\";\n",
    "    } else if (n === 1) {\n",
    "        return 0;\n",
    "    } else if (n === 2) {\n",
    "        return 1;\n",
    "    } else {\n",
    "        return fibonacci(n - 1) + fibonacci(n - 2);\n",
    "    }\n",
    "}\n",
    "\n",
    "let n = 30;\n",
    "console.log(`The ${n}th Fibonacci number is: ${fibonacci(n)}`);\n"
   ]
  },
  {
   "cell_type": "markdown",
   "metadata": {},
   "source": [
    "## Homework for 3.3"
   ]
  },
  {
   "cell_type": "code",
   "execution_count": 27,
   "metadata": {},
   "outputs": [
    {
     "name": "stderr",
     "output_type": "stream",
     "text": [
      "INFO:Matrix raised to power 77:\n",
      "[[8944394323791464 5527939700884757]\n",
      " [5527939700884757 3416454622906707]]\n"
     ]
    },
    {
     "name": "stdout",
     "output_type": "stream",
     "text": [
      "Fibonacci number at position 78 is: 8944394323791464\n"
     ]
    }
   ],
   "source": [
    "#Python: Fibonacci Using Matrix Exponentiation\n",
    "\n",
    "import numpy as np\n",
    "import logging\n",
    "import sys\n",
    "\n",
    "# Configure logging\n",
    "logging.basicConfig(level=logging.INFO, format='%(levelname)s:%(message)s')\n",
    "\n",
    "def matrix_multiply(A, B):\n",
    "    \"\"\"\n",
    "    Perform matrix multiplication between two numpy arrays A and B.\n",
    "    \"\"\"\n",
    "    logging.debug(f\"Multiplying matrices:\\n{A}\\n{B}\")\n",
    "    return np.dot(A, B)\n",
    "\n",
    "def matrix_power(M, power):\n",
    "    \"\"\"\n",
    "    Raise matrix M to the specified power using binary exponentiation.\n",
    "    \"\"\"\n",
    "    if power < 0:\n",
    "        raise ValueError(\"Power must be a non-negative integer.\")\n",
    "    \n",
    "    result = np.identity(len(M), dtype=object)\n",
    "    logging.debug(f\"Initial identity matrix:\\n{result}\")\n",
    "    \n",
    "    while power > 0:\n",
    "        if power % 2 == 1:\n",
    "            result = matrix_multiply(result, M)\n",
    "            logging.debug(f\"Result after multiplying by M:\\n{result}\")\n",
    "        M = matrix_multiply(M, M)\n",
    "        logging.debug(f\"Matrix M squared:\\n{M}\")\n",
    "        power = power // 2\n",
    "        logging.debug(f\"Power reduced to: {power}\")\n",
    "    \n",
    "    return result\n",
    "\n",
    "def fibonacci_matrix(n):\n",
    "    \"\"\"\n",
    "    Calculate the nth Fibonacci number using matrix exponentiation.\n",
    "    \"\"\"\n",
    "    if not isinstance(n, int):\n",
    "        raise TypeError(\"Input must be an integer.\")\n",
    "    if n < 0:\n",
    "        raise ValueError(\"Fibonacci number is not defined for negative integers.\")\n",
    "    elif n == 0:\n",
    "        return 0\n",
    "    elif n == 1:\n",
    "        return 1\n",
    "    \n",
    "    F = np.array([[1, 1],\n",
    "                  [1, 0]], dtype=object)\n",
    "    \n",
    "    result = matrix_power(F, n-1)\n",
    "    \n",
    "    logging.info(f\"Matrix raised to power {n-1}:\\n{result}\")\n",
    "    \n",
    "    return result[0][0]\n",
    "\n",
    "def validate_input(user_input):\n",
    "    \"\"\"\n",
    "    Validate the user input to ensure it's a non-negative integer.\n",
    "    \"\"\"\n",
    "    try:\n",
    "        value = int(user_input)\n",
    "        if value < 0:\n",
    "            raise ValueError\n",
    "        return value\n",
    "    except ValueError:\n",
    "        raise ValueError(\"Please enter a valid non-negative integer.\")\n",
    "\n",
    "def main():\n",
    "    \"\"\"\n",
    "    Main function to execute the Fibonacci calculation.\n",
    "    \"\"\"\n",
    "    try:\n",
    "        user_input = input(\"Enter the position of the Fibonacci number you want to calculate: \")\n",
    "        n = validate_input(user_input)\n",
    "        fib_n = fibonacci_matrix(n)\n",
    "        print(f\"Fibonacci number at position {n} is: {fib_n}\")\n",
    "    except ValueError as ve:\n",
    "        logging.error(ve)\n",
    "    except Exception as e:\n",
    "        logging.error(f\"An unexpected error occurred: {e}\")\n",
    "        sys.exit(1)\n",
    "\n",
    "if __name__ == \"__main__\":\n",
    "    main()"
   ]
  },
  {
   "cell_type": "code",
   "execution_count": 28,
   "metadata": {
    "vscode": {
     "languageId": "javascript"
    }
   },
   "outputs": [
    {
     "data": {
      "application/javascript": "2. Java: Fibonacci Using Dynamic Programming\n\npublic class FibonacciDP {\n    \n    // Method to calculate Fibonacci using dynamic programming with optimized space\n    public static long fibonacci(int n) {\n        // Base cases for Fibonacci\n        if (n == 0) return 0;\n        if (n == 1) return 1;\n\n        // Variables to store previous two Fibonacci numbers\n        long prev1 = 1, prev2 = 0;\n        long current = 0;\n\n        // Iteratively calculate Fibonacci\n        for (int i = 2; i <= n; i++) {\n            current = prev1 + prev2;\n            prev2 = prev1;\n            prev1 = current;\n        }\n\n        return current;\n    }\n\n    // Efficient matrix exponentiation approach (O(log n))\n    public static long fibonacciMatrix(int n) {\n        if (n == 0) return 0;\n        \n        long[][] F = { { 1, 3 }, { 1, 0 } };\n        power(F, n - 1);\n\n        return F[0][0];\n    }\n\n    // Helper method to perform matrix exponentiation\n    private static void power(long[][] F, int n) {\n        if (n == 0 || n == 1) return;\n\n        long[][] M = { { 1, 1 }, { 1, 0 } };\n\n        power(F, n / 2);\n        multiply(F, F); // Square the matrix\n\n        if (n % 2 != 0) multiply(F, M); // Multiply by M if n is odd\n    }\n\n    // Matrix multiplication helper\n    private static void multiply(long[][] F, long[][] M) {\n        long x = F[0][0] * M[0][0] + F[0][1] * M[1][0];\n        long y = F[0][0] * M[0][1] + F[0][1] * M[1][1];\n        long z = F[1][0] * M[0][0] + F[1][1] * M[1][0];\n        long w = F[1][0] * M[0][1] + F[1][1] * M[1][1];\n\n        F[0][0] = x;\n        F[0][1] = y;\n        F[1][0] = z;\n        F[1][1] = w;\n    }\n\n    public static void main(String[] args) {\n        int n = 60;\n\n        // Using dynamic programming with optimized space\n        System.out.println(\"Fibonacci number at position \" + n + \" using DP is: \" + fibonacci(n));\n\n        // Using matrix exponentiation (O(log n))\n        System.out.println(\"Fibonacci number at position \" + n + \" using Matrix Exponentiation is: \" + fibonacciMatrix(n));\n    }\n}\n\n\n",
      "text/plain": [
       "<IPython.core.display.Javascript object>"
      ]
     },
     "metadata": {},
     "output_type": "display_data"
    }
   ],
   "source": [
    "%%javascript\n",
    "2. Java: Fibonacci Using Dynamic Programming\n",
    "\n",
    "public class FibonacciDP {\n",
    "    \n",
    "    // Method to calculate Fibonacci using dynamic programming with optimized space\n",
    "    public static long fibonacci(int n) {\n",
    "        // Base cases for Fibonacci\n",
    "        if (n == 0) return 0;\n",
    "        if (n == 1) return 1;\n",
    "\n",
    "        // Variables to store previous two Fibonacci numbers\n",
    "        long prev1 = 1, prev2 = 0;\n",
    "        long current = 0;\n",
    "\n",
    "        // Iteratively calculate Fibonacci\n",
    "        for (int i = 2; i <= n; i++) {\n",
    "            current = prev1 + prev2;\n",
    "            prev2 = prev1;\n",
    "            prev1 = current;\n",
    "        }\n",
    "\n",
    "        return current;\n",
    "    }\n",
    "\n",
    "    // Efficient matrix exponentiation approach (O(log n))\n",
    "    public static long fibonacciMatrix(int n) {\n",
    "        if (n == 0) return 0;\n",
    "        \n",
    "        long[][] F = { { 1, 3 }, { 1, 0 } };\n",
    "        power(F, n - 1);\n",
    "\n",
    "        return F[0][0];\n",
    "    }\n",
    "\n",
    "    // Helper method to perform matrix exponentiation\n",
    "    private static void power(long[][] F, int n) {\n",
    "        if (n == 0 || n == 1) return;\n",
    "\n",
    "        long[][] M = { { 1, 1 }, { 1, 0 } };\n",
    "\n",
    "        power(F, n / 2);\n",
    "        multiply(F, F); // Square the matrix\n",
    "\n",
    "        if (n % 2 != 0) multiply(F, M); // Multiply by M if n is odd\n",
    "    }\n",
    "\n",
    "    // Matrix multiplication helper\n",
    "    private static void multiply(long[][] F, long[][] M) {\n",
    "        long x = F[0][0] * M[0][0] + F[0][1] * M[1][0];\n",
    "        long y = F[0][0] * M[0][1] + F[0][1] * M[1][1];\n",
    "        long z = F[1][0] * M[0][0] + F[1][1] * M[1][0];\n",
    "        long w = F[1][0] * M[0][1] + F[1][1] * M[1][1];\n",
    "\n",
    "        F[0][0] = x;\n",
    "        F[0][1] = y;\n",
    "        F[1][0] = z;\n",
    "        F[1][1] = w;\n",
    "    }\n",
    "\n",
    "    public static void main(String[] args) {\n",
    "        int n = 60;\n",
    "\n",
    "        // Using dynamic programming with optimized space\n",
    "        System.out.println(\"Fibonacci number at position \" + n + \" using DP is: \" + fibonacci(n));\n",
    "\n",
    "        // Using matrix exponentiation (O(log n))\n",
    "        System.out.println(\"Fibonacci number at position \" + n + \" using Matrix Exponentiation is: \" + fibonacciMatrix(n));\n",
    "    }\n",
    "}\n",
    "\n",
    "\n"
   ]
  },
  {
   "cell_type": "markdown",
   "metadata": {},
   "source": [
    "## Popcorn Hacks for 3.5"
   ]
  },
  {
   "cell_type": "code",
   "execution_count": 17,
   "metadata": {},
   "outputs": [
    {
     "name": "stdout",
     "output_type": "stream",
     "text": [
      "It's hot outside, so it must be sunny True\n",
      "It's sunny outside, but it may not be hot\n"
     ]
    }
   ],
   "source": [
    "def Hot():\n",
    "    return True  # Condition A\n",
    "\n",
    "def Sunny():\n",
    "    return True  # Condition B\n",
    "\n",
    "# Original statement: if A then B\n",
    "if Hot():\n",
    "    print(\"It's hot outside, so it must be sunny\", Sunny())\n",
    "else:\n",
    "    print(\"It it's not hot outside, it may not be sunny.\")\n",
    "\n",
    "# Contrapositive: if not B then not A\n",
    "if not Sunny():\n",
    "    print(\"It's not sunny, so it's not hot.\", not Hot())\n",
    "else:\n",
    "    print(\"It's sunny outside, but it may not be hot\")"
   ]
  },
  {
   "cell_type": "code",
   "execution_count": 19,
   "metadata": {
    "vscode": {
     "languageId": "javascript"
    }
   },
   "outputs": [
    {
     "data": {
      "application/javascript": "\npublic class ContrapositiveExample {\n    \n    public static boolean Hot() {\n        return true; // Condition A\n    }\n    \n    public static boolean Sunny() {\n        return true; // Condition B\n    }\n    \n    public static void main(String[] args) {\n        // Original statement: if A then B\n        if (this.Hot()) {\n            System.out.println(\"It's hot outside, so it must be sunny\" + this.Sunny());\n        } else {\n            System.out.println(\"It it's not hot outside, it may not be sunny.\");\n        }\n        \n        // Contrapositive: if not B then not A\n        if (!this.Sunny()) {\n            System.out.println(\"It's not sunny, so it's not hot.\" + !this.Hot());\n        } else {\n            System.out.println(\"It's sunny outside, but it may not be hot\");\n        }\n    }\n}\n",
      "text/plain": [
       "<IPython.core.display.Javascript object>"
      ]
     },
     "metadata": {},
     "output_type": "display_data"
    }
   ],
   "source": [
    "%%javascript\n",
    "\n",
    "public class ContrapositiveExample {\n",
    "    \n",
    "    public static boolean Hot() {\n",
    "        return true; // Condition A\n",
    "    }\n",
    "    \n",
    "    public static boolean Sunny() {\n",
    "        return true; // Condition B\n",
    "    }\n",
    "    \n",
    "    public static void main(String[] args) {\n",
    "        // Original statement: if A then B\n",
    "        if (this.Hot()) {\n",
    "            System.out.println(\"It's hot outside, so it must be sunny\" + this.Sunny());\n",
    "        } else {\n",
    "            System.out.println(\"It it's not hot outside, it may not be sunny.\");\n",
    "        }\n",
    "        \n",
    "        // Contrapositive: if not B then not A\n",
    "        if (!this.Sunny()) {\n",
    "            System.out.println(\"It's not sunny, so it's not hot.\" + !this.Hot());\n",
    "        } else {\n",
    "            System.out.println(\"It's sunny outside, but it may not be hot\");\n",
    "        }\n",
    "    }\n",
    "}"
   ]
  },
  {
   "cell_type": "markdown",
   "metadata": {},
   "source": [
    "## Contrapositive Law\n",
    "\n",
    "The contrapositive of a statement is logically equivalent to the original statement, meaning that both will always have the same truth value. In programming, conditional statements often take the form of logical implications. You can apply the contrapositive logic to simplify, rearrange, or optimize your code structure."
   ]
  },
  {
   "cell_type": "markdown",
   "metadata": {},
   "source": [
    "## DeMorgan's Law\n",
    "This law is a tool that allows a way to simplfiy complex conditions. By implementing this law, the readability of code is much better, since it reduces complexity. Basically, it shows the relatinoship between the AND, OR, and NOT statements. "
   ]
  },
  {
   "cell_type": "code",
   "execution_count": 29,
   "metadata": {
    "vscode": {
     "languageId": "javascript"
    }
   },
   "outputs": [
    {
     "name": "stdout",
     "output_type": "stream",
     "text": [
      "Both are False\n"
     ]
    }
   ],
   "source": [
    "def check_conditions(a, b):\n",
    "    if not a and not b:\n",
    "        return \"Both are False\"\n",
    "    else:\n",
    "        return \"At least one is True\"\n",
    "\n",
    "a = False\n",
    "b = False\n",
    "\n",
    "print(check_conditions(a, b))"
   ]
  },
  {
   "cell_type": "markdown",
   "metadata": {},
   "source": [
    "An example of how to use DeMorgans Law is when you need to compare two statements. For example, saying that its not true someone is tall and athletic can be simplified using DeMorgans by saying that person is not tall OR not athletic. "
   ]
  },
  {
   "cell_type": "markdown",
   "metadata": {},
   "source": [
    "## Homework for 3.5"
   ]
  },
  {
   "cell_type": "code",
   "execution_count": 23,
   "metadata": {},
   "outputs": [
    {
     "name": "stdout",
     "output_type": "stream",
     "text": [
      "Square     Rectangle| AND | OR | NOT Square\n",
      "-------------------------------------------\n",
      "1     1     | 1    | 1   | False\n",
      "1     0     | 0    | 1   | False\n",
      "0     1     | 0    | 1   | True\n",
      "0     0     | 0    | 0   | True\n"
     ]
    }
   ],
   "source": [
    "def AND(Square, Rectangle):\n",
    "    return Square and Rectangle\n",
    "\n",
    "def OR(Square, Rectangle):\n",
    "    return Square or Rectangle\n",
    "\n",
    "def NOT(Square):\n",
    "    return not Square\n",
    "\n",
    "print(\"Square     Rectangle| AND | OR | NOT Square\")\n",
    "print(\"-------------------------------------------\")\n",
    "for Square in [True, False]:\n",
    "    for Rectangle in [True, False]:\n",
    "        print(f\"{Square:<5} {Rectangle:<5} | {AND(Square, Rectangle):<4} | {OR(Square, Rectangle):<3} | {NOT(Square)}\")"
   ]
  },
  {
   "cell_type": "code",
   "execution_count": 25,
   "metadata": {
    "vscode": {
     "languageId": "javascript"
    }
   },
   "outputs": [
    {
     "data": {
      "application/javascript": "\nfunction AND(Square, Rectangle) {\n    return Square && Rectangle;\n}\n\nfunction OR(Square, Rectangle) {\n    return Square || Rectangle;\n}\n\nfunction NOT(Square) {\n    return !Square;\n}\n\nconsole.log(\"Square     Rectangle | AND  | OR  | NOT Square\");\nconsole.log(\"---------------------------------------------\");\n\nlet values = [true, false];\nvalues.forEach(Square => {\n    values.forEach(Rectangle => {\n        console.log(`${Square}   ${Rectangle}   | ${AND(Square, Rectangle)}  | ${OR(Square, Rectangle)}  | ${NOT(Square)}`);\n    });\n});\n",
      "text/plain": [
       "<IPython.core.display.Javascript object>"
      ]
     },
     "metadata": {},
     "output_type": "display_data"
    }
   ],
   "source": [
    "%%javascript\n",
    "\n",
    "function AND(Square, Rectangle) {\n",
    "    return Square && Rectangle;\n",
    "}\n",
    "\n",
    "function OR(Square, Rectangle) {\n",
    "    return Square || Rectangle;\n",
    "}\n",
    "\n",
    "function NOT(Square) {\n",
    "    return !Square;\n",
    "}\n",
    "\n",
    "console.log(\"Square     Rectangle | AND  | OR  | NOT Square\");\n",
    "console.log(\"---------------------------------------------\");\n",
    "\n",
    "let values = [true, false];\n",
    "values.forEach(Square => {\n",
    "    values.forEach(Rectangle => {\n",
    "        console.log(`${Square}   ${Rectangle}   | ${AND(Square, Rectangle)}  | ${OR(Square, Rectangle)}  | ${NOT(Square)}`);\n",
    "    });\n",
    "});"
   ]
  }
 ],
 "metadata": {
  "kernelspec": {
   "display_name": "venv",
   "language": "python",
   "name": "python3"
  },
  "language_info": {
   "codemirror_mode": {
    "name": "ipython",
    "version": 3
   },
   "file_extension": ".py",
   "mimetype": "text/x-python",
   "name": "python",
   "nbconvert_exporter": "python",
   "pygments_lexer": "ipython3",
   "version": "3.12.5"
  }
 },
 "nbformat": 4,
 "nbformat_minor": 2
}
