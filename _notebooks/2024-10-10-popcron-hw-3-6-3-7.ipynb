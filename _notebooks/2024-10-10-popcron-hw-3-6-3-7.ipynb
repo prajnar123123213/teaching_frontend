{
 "cells": [
  {
   "cell_type": "raw",
   "metadata": {},
   "source": [
    "---\n",
    "layout: post\n",
    "title: Homeworks and Popcorn Hacks for Lessons\n",
    "description: All homeworks and hacks for 3.6, 3.7\n",
    "permalink: /threedashsixandseven/\n",
    "courses: { csp: {week: 1} }\n",
    "comments: true\n",
    "sticky_rank: 1\n",
    "---"
   ]
  },
  {
   "cell_type": "markdown",
   "metadata": {},
   "source": [
    "## Popcorn Hacks for 3.6"
   ]
  },
  {
   "cell_type": "code",
   "execution_count": 1,
   "metadata": {},
   "outputs": [
    {
     "name": "stdout",
     "output_type": "stream",
     "text": [
      "You are young!\n"
     ]
    }
   ],
   "source": [
    "age = 16\n",
    "\n",
    "if age >= 45:\n",
    "    print (\"You are old!\")\n",
    "else:\n",
    "    print (\"You are young!\")"
   ]
  },
  {
   "cell_type": "code",
   "execution_count": 10,
   "metadata": {
    "vscode": {
     "languageId": "javascript"
    }
   },
   "outputs": [
    {
     "data": {
      "application/javascript": "\nlet age = 16\nif (age >= 45) {\n    console.log(\"You are old!\");\n} else {\n    console.log(\"You are young!\");\n}\n",
      "text/plain": [
       "<IPython.core.display.Javascript object>"
      ]
     },
     "metadata": {},
     "output_type": "display_data"
    }
   ],
   "source": [
    "%%javascript\n",
    "\n",
    "let age = 16\n",
    "if (age >= 45) {\n",
    "    console.log(\"You are old!\");\n",
    "} else {\n",
    "    console.log(\"You are young!\");\n",
    "}"
   ]
  },
  {
   "cell_type": "code",
   "execution_count": 3,
   "metadata": {},
   "outputs": [
    {
     "name": "stdout",
     "output_type": "stream",
     "text": [
      "You should get a pet!\n"
     ]
    }
   ],
   "source": [
    "has_a_pet = False\n",
    "if has_a_pet: \n",
    "    print (\"What kind of pet do you have?\")\n",
    "else:\n",
    "    print (\"You should get a pet!\")      "
   ]
  },
  {
   "cell_type": "code",
   "execution_count": 5,
   "metadata": {
    "vscode": {
     "languageId": "javascript"
    }
   },
   "outputs": [
    {
     "data": {
      "application/javascript": "\nlet has_a_pet = false;\nif (has_a_pet) {\n    console.log(\"What kind of pet do you have?\");\n} else {\n    console.log(\"You should get a pet!\");\n}\n",
      "text/plain": [
       "<IPython.core.display.Javascript object>"
      ]
     },
     "metadata": {},
     "output_type": "display_data"
    }
   ],
   "source": [
    "%%javascript\n",
    "\n",
    "let has_a_pet = false;\n",
    "if (has_a_pet) {\n",
    "    console.log(\"What kind of pet do you have?\");\n",
    "} else {\n",
    "    console.log(\"You should get a pet!\");\n",
    "}"
   ]
  },
  {
   "cell_type": "code",
   "execution_count": 14,
   "metadata": {},
   "outputs": [
    {
     "name": "stdout",
     "output_type": "stream",
     "text": [
      "You earned 3\n",
      "Oh no! Try again\n"
     ]
    }
   ],
   "source": [
    "import random\n",
    "\n",
    "lives_in_game = random.randint(1, 5)\n",
    "\n",
    "print(f\"You earned {lives_in_game}\")\n",
    "\n",
    "if lives_in_game == 1:\n",
    "    print (\"You died! Try again!\")\n",
    "elif lives_in_game <=3:\n",
    "    print (\"Oh no! Try again\")\n",
    "elif lives_in_game == 4:\n",
    "    print (\"Almost there\")\n",
    "else:\n",
    "    print (\"Congrats, you won!\")\n"
   ]
  },
  {
   "cell_type": "markdown",
   "metadata": {},
   "source": [
    "## Popcorn Hacks for 3.7"
   ]
  },
  {
   "cell_type": "code",
   "execution_count": 9,
   "metadata": {},
   "outputs": [
    {
     "name": "stdout",
     "output_type": "stream",
     "text": [
      "Have a sweet treat!\n"
     ]
    }
   ],
   "source": [
    "age = int(input(\"Enter your age: \"))\n",
    "likes_sweets = input(\"Do you like sweets? (yes/no/maybe): \").lower()\n",
    "\n",
    "if age >= 40:\n",
    "    if likes_sweets == \"yes\":\n",
    "        print(\"You can have candy!\")\n",
    "    elif likes_sweets == \"maybe\":\n",
    "        print (\"Have a sweet treat!\")\n",
    "    else:\n",
    "        print(\"You can have a healthy snack.\")\n",
    "else:\n",
    "    print(\"You get a fruit snack.\")"
   ]
  },
  {
   "cell_type": "code",
   "execution_count": 11,
   "metadata": {},
   "outputs": [
    {
     "name": "stdout",
     "output_type": "stream",
     "text": [
      "You can buy a Dell laptop!\n"
     ]
    }
   ],
   "source": [
    "savings = 900\n",
    "\n",
    "# Laptop prices\n",
    "dell_price = 900\n",
    "chromebook_price = 500\n",
    "macbook_price = 2500\n",
    "\n",
    "# Determine which laptop you can buy\n",
    "if savings >= macbook_price:\n",
    "    print(\"You can buy a MacBook!\")\n",
    "elif savings >= dell_price:\n",
    "    print(\"You can buy a Dell laptop!\")\n",
    "elif savings >= chromebook_price:\n",
    "    print(\"You can buy an chromebook!\")\n",
    "else:\n",
    "    print(\"You don't have enough money to buy a laptop.\")\n"
   ]
  },
  {
   "cell_type": "code",
   "execution_count": 15,
   "metadata": {
    "vscode": {
     "languageId": "javascript"
    }
   },
   "outputs": [
    {
     "data": {
      "application/javascript": "// Weather Conditions\nlet is_sunny_outside = true;\nlet is_under_80_degrees = false;\n\n// Logic based on weather conditions\nif (is_sunny_outside) {\n    console.log(\"You can go on a walk outside!\");\n\n    if (is_under_80_degrees) {\n        console.log(\"Go for a run!\");\n    } else {\n        console.log(\"Stay inside\");\n    }\n} else {\n    console.log(\"Bad weather! Stay inside\");\n}\n",
      "text/plain": [
       "<IPython.core.display.Javascript object>"
      ]
     },
     "metadata": {},
     "output_type": "display_data"
    }
   ],
   "source": [
    "%%javascript\n",
    "// Weather Conditions\n",
    "let is_sunny_outside = true;\n",
    "let is_under_80_degrees = false;\n",
    "\n",
    "// Logic based on weather conditions\n",
    "if (is_sunny_outside) {\n",
    "    console.log(\"You can go on a walk outside!\");\n",
    "\n",
    "    if (is_under_80_degrees) {\n",
    "        console.log(\"Go for a run!\");\n",
    "    } else {\n",
    "        console.log(\"Stay inside\");\n",
    "    }\n",
    "} else {\n",
    "    console.log(\"Bad weather! Stay inside\");\n",
    "}"
   ]
  },
  {
   "cell_type": "markdown",
   "metadata": {},
   "source": [
    "## Homework for 3.6"
   ]
  },
  {
   "cell_type": "code",
   "execution_count": 19,
   "metadata": {},
   "outputs": [
    {
     "name": "stdout",
     "output_type": "stream",
     "text": [
      "Hi, prajna! You are running Python using /Users/prajnaraj/nighthawk/prajna_2025/venv/bin/python.\n",
      "Correct!\n",
      "Incorrect. The correct answer is c) Billie Eilish.\n",
      "Correct!\n",
      "Correct!\n",
      "Correct!\n",
      "Correct!\n"
     ]
    }
   ],
   "source": [
    "import sys\n",
    "\n",
    "def question_with_response(prompt):\n",
    "    answer = input(prompt)\n",
    "    return answer\n",
    "\n",
    "questions = 6\n",
    "correct = 0\n",
    "\n",
    "user_name = question_with_response(\"Enter your name: \")\n",
    "print(f'Hi, {user_name}! You are running Python using {sys.executable}.')\n",
    "ready = question_with_response(\"Are you ready to take a music quiz?(yes/no): \")\n",
    "if ready.lower() != 'yes':\n",
    "    print(\"Come back when you're ready! Goodbye.\")\n",
    "    sys.exit()\n",
    "    \n",
    "q1 = question_with_response(\"1. Which music artist has the most Grammis? a) Bruno Mars b) Lady Gaga c) Madonna d) Beyonce: \")\n",
    "if q1.lower() == \"d\":\n",
    "    print(\"Correct!\")\n",
    "    correct += 1\n",
    "else:\n",
    "    print(\"Incorrect. The correct answer is d) Beyonce.\")\n",
    "    \n",
    "q2 = question_with_response(\"2. Which singer has the most monthly listeners on Spotify? a) Ed Sheeran b) Justin Bieber c) Billie Eilish  d) The Weeknd: \")\n",
    "if q2.lower() == \"c\":\n",
    "    print(\"Correct!\")\n",
    "    correct += 1\n",
    "else:\n",
    "    print(\"Incorrect. The correct answer is c) Billie Eilish.\")\n",
    "\n",
    "q3 = question_with_response(\"3. What music video has the highest view on Youtube? a) Gangnam Style  b) Despacito  c) Baby Shark  d) Uptown Funk:\")\n",
    "if q3.lower() == \"c\":\n",
    "    print(\"Correct!\")\n",
    "    correct += 1\n",
    "else:\n",
    "    print(\"Incorrect. The correct answer is c) Baby Shark.\")\n",
    "\n",
    "q4 = question_with_response(\"4. Which rapper is with Rihanna? a) A$AP Rocky  b) Drake  c) Diddy  d) Eminem: \")\n",
    "if q4.lower() == \"a\":\n",
    "    print(\"Correct!\")\n",
    "    correct += 1\n",
    "else:\n",
    "    print(\"Incorrect. The correct answer is a) A$AP Rocky.\")\n",
    "    \n",
    "q5 = question_with_response(\"5. What streaming platform is most popular? a) Apple Music b) Spotify  c)Sound cloud: \")\n",
    "if q5.lower() == \"b\":\n",
    "    print(\"Correct!\")\n",
    "    correct += 1\n",
    "else:\n",
    "    print(\"Incorrect. The correct answer is b) Spotify.\")\n",
    "\n",
    "q6 = question_with_response(\"6. What is the name of a former British boy band? a) 2 Direction b) 1 Direction c) Right direction d) Left direction  : \")\n",
    "if q6.lower() == \"b\":\n",
    "    print(\"Correct!\")\n",
    "    correct += 1\n",
    "else:\n",
    "    print(\"Incorrect. The correct answer is b) 1 Direction.\")\n",
    "\n",
    "\n",
    "print(f'{user_name}, you scored {correct}/{questions}!')\n",
    "    "
   ]
  },
  {
   "cell_type": "markdown",
   "metadata": {},
   "source": [
    "## Homework for 3.7"
   ]
  },
  {
   "cell_type": "code",
   "execution_count": 22,
   "metadata": {},
   "outputs": [
    {
     "name": "stdout",
     "output_type": "stream",
     "text": [
      "Wow! You must be great at driving!\n"
     ]
    }
   ],
   "source": [
    "age = int(input(\"Enter your age: \"))\n",
    "has_license = input(\"Do you have a drivers license? (yes/no): \").lower()\n",
    "\n",
    "# Check if the child can join the game\n",
    "can_drive = age >= 16 and has_license == \"yes\"\n",
    "\n",
    "if can_drive:\n",
    "    if age > 16:\n",
    "        print(\"Wow! You must be great at driving!\")\n",
    "    else:\n",
    "        print(\"Keep practicing!.\")\n",
    "else:\n",
    "    print(\"Sorry, you can't join the game yet.\")"
   ]
  }
 ],
 "metadata": {
  "kernelspec": {
   "display_name": "venv",
   "language": "python",
   "name": "python3"
  },
  "language_info": {
   "codemirror_mode": {
    "name": "ipython",
    "version": 3
   },
   "file_extension": ".py",
   "mimetype": "text/x-python",
   "name": "python",
   "nbconvert_exporter": "python",
   "pygments_lexer": "ipython3",
   "version": "3.12.5"
  }
 },
 "nbformat": 4,
 "nbformat_minor": 2
}
