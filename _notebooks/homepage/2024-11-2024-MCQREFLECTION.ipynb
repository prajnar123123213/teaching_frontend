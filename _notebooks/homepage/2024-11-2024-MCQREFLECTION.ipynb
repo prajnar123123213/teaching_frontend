{
 "cells": [
  {
   "cell_type": "raw",
   "metadata": {},
   "source": [
    "---\n",
    "layout: post\n",
    "title: MCQ 1- Reflection\n",
    "description: Reflection for MCQ results\n",
    "courses: { csp: {week: 1} }\n",
    "comments: true\n",
    "sticky_rank: 1\n",
    "---"
   ]
  },
  {
   "cell_type": "markdown",
   "metadata": {},
   "source": [
    "MCQ Results: 46/66\n"
   ]
  },
  {
   "cell_type": "markdown",
   "metadata": {},
   "source": [
    "<h1> What I Learned </h1>\n",
    "\n",
    "1. The test isn't as intimidating as I thought it would be, but there is a lot of improvement to be made.\n",
    "2. I am a lot stronger when it comes to conceptual questions and data analysis. Visuals also helpful sometimes. \n",
    "3. Time management is crucial!"
   ]
  },
  {
   "cell_type": "markdown",
   "metadata": {},
   "source": [
    "<h1> Weakness </h1>\n",
    "\n",
    "1. I missed most of the \"fill in the missing code\" question types. I also struggled when they showed a huge chunk of code and asked to identify or make changes to the algorithm. \n",
    "\n",
    "Overall, I think I'm weak when it comes to actually coding. I'm able to understand and analyze code, but I can't actually fill in the blanks by myself. I'm struggling with being able to imagine how a certain code can break down or fix an algorithm. \n",
    "\n",
    "2. Vocabluary\n",
    "\n",
    " There were multiple questions that asked about stuff like bits or bytes, and I had no idea what that was. Since I didn't even understand what the question was asking, I had a hard time picking the right answer choices. \n",
    "\n",
    " 3. \"Select two\" type of questions. (The ones near the end)"
   ]
  },
  {
   "cell_type": "markdown",
   "metadata": {},
   "source": [
    "<h1> Corrections </h1>\n",
    "\n",
    "Q1. Correct answer: second <--- temp\n",
    "- I put: temp <--- first. The reason I got this wrong is because the variable \"second\" needs to me included in the missing code in order for the two of them to be swapped. Temp already represents first, so my answer doesn't include the second variable at all. \n",
    "\n",
    "Q11. Correct answer: D\n",
    "- I put: C. I mixed up the colors! I understood that the spinner was spit into 1/6, but Red is way bigger than the other colors, meaning that it has a higher probability of being selected. \n",
    "\n",
    "Q14. Correct answer: Same number of values, but displayed different. \n",
    "- Explanation: There is already a variable named \"i\" at the top! Because of this, Program B will read the first variable of i (which is assigned to the number 1), and print out 1+1. The number list will start at 2. \n",
    "\n",
    "Q21. Correct answer: B\n",
    "- I put: A. I forgot which way was right! Oops!\n",
    "\n",
    "Q22. Correct answer: B\n",
    "- I put: D. I mixed up the variable. The counter is what decides if the temperature is hot or not. In order for the boolean to come out as true, the counter must be greater, NOT the total. \n",
    "\n",
    "Q23. Correct answer: B\n",
    "- This was a super silly mistake! I thought the question asked for R and S, not P and S.\n",
    "\n",
    "Q27. Correct answer: Between line 9 and line 10\n",
    "- I put: Between line 6 and line 7. The reason that 9 and 10 is the correct answer choice is because the goal of this algorithim is to make the code loop if the person guesses the wrong number. If the win <-- true statement is placed at the end of the first if statement, it would terminate the rest of the loop when the person wins the game. \n",
    "\n",
    "Q28. Correct answer: 8\n",
    "- I put: 7. To count the number of bits, you need to but the bits to the root of 2. 2^7 is not around 200, but 2^8 is. \n",
    "\n",
    "Q30. Correct answer: 5 hours\n",
    "- I put: 1 hour. The \"Analysis\" code takes one hour to preform, but the code itself requires Analysis to run 5 times, since it's a loop. Because of this, 1*5 is 5 hours. \n",
    "\n",
    "Q31. Correct answer: Both programs work\n",
    "- I put: Program 1 doesn't work. Again, mixed up my lefts and rights with this one, like in Q 21. Definitely need to be more careful next time. \n",
    "\n",
    "Q37. Correct answer: C\n",
    "- I put: D. C is correct because in program 1, both of the math functions are inside a loop. They need to be preformed more times than program 2. \n",
    "\n",
    "Q43. Correct answer: Runs in a reasonable time\n",
    "- I put: No reasonable time. If the steps follow a polynomial function pattern, the run time will be reasonable. The given data therefore will run in a reasonable time. \n",
    "\n",
    "Q45. Correct answer: NOT (P and Q)\n",
    "- I put: NOT (P or Q). Clearly need to learn the difference between and/ or. \n",
    "\n",
    "Q46. Correct answer: D\n",
    "- I put: B. A computer can only do what you code it to do. It is not possible for it to solve every single or an infinate number of problems. \n",
    "\n",
    "Q50. Correct answer: II only\n",
    "- I put: II and III. The list does not need to be sorted to work. Since the program works linearlly, it will just read the list without it needing to be sorted (?). \n",
    "\n",
    "Q58. Correct answer: I and II only. \n",
    "- I put: I, II, and III. I missed one key part of option III. Not all problems can be fixed in a \"reasonable\" time, even if we're using crowdsourcing. \n",
    "\n",
    "Q60. Correct answer: A, D\n",
    "- I put: B, D. Abstraction is when you hide some information behind a variable to make your code shorter. So, the variable name itself isn't that important, making option B incorrect. \n",
    "\n",
    "Q63. Correct answer: B, D\n",
    "- I put: A, D. We don't need to repeat the same code twice! Since the count <--- 0 is already set at the top, it doens't need to repeat in Line 4. \n",
    "\n",
    "Q65. Correct answer: B, D\n",
    "- I put: B, C. Count begins at zero, so y cannot be negative. A negative number would mess up the counting process. \n",
    "\n",
    "Q66. Correct answer: C, D\n",
    "- I put: A, D. The goal is to return the number 20 (?) 10 is too small thought, so you need to pick a list where 20 is included but 10 is not (?)\n"
   ]
  }
 ],
 "metadata": {
  "kernelspec": {
   "display_name": "venv",
   "language": "python",
   "name": "python3"
  },
  "language_info": {
   "name": "python",
   "version": "3.12.5"
  }
 },
 "nbformat": 4,
 "nbformat_minor": 2
}
