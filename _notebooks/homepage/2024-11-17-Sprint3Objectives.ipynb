{
 "cells": [
  {
   "cell_type": "raw",
   "metadata": {},
   "source": [
    "---\n",
    "layout: post\n",
    "title: Live Review for Sprint 3\n",
    "description: Live Review\n",
    "courses: { csp: {week: 1} }\n",
    "comments: true\n",
    "sticky_rank: 1\n",
    "---"
   ]
  },
  {
   "cell_type": "markdown",
   "metadata": {},
   "source": [
    "| **Assignment**                | **Points**    | **Grade** | **Evidence** |\n",
    "|-------------------------------|---------------|-----------|--------------|\n",
    "| Sprint 1-3 Review Ticket      | 3             |           |              |\n",
    "| Sprint 3 Team Issue(s)/Plan   | 2             |           |    We have an issue in the flocker frontend repo.          |\n",
    "| Beginning-2-End Contribution  | 2             |           |    I was the integrator for this project, so I helped with all the pull requests. I also worked on the main front page of the website.           |\n",
    "| N@tM Team Presentation        | 2             |           |    We made a issue where we collected peer reviews. We got feedback from parents and student from other classes.           |\n",
    "| Live Review Indi Demo         | 1             |           |              |\n",
    "| **Total**                     | 10            |           |              |\n",
    "\n",
    "| **Skill**                  | **Points**    | **Grade** | **Evidence** |\n",
    "|----------------------------|---------------|-----------|--------------|\n",
    "| Work Habits (Analytics)    | 1             |           |    All committs are avaiblable in GitHub.           |\n",
    "| Evidence of Role in Team   | 1             |           | Cloned the repo using my account, did all pull requests.              | \n",
    "| Function / Purpose Design  | 1             |           |     The website is fully update in both frontend and backend.          | \n",
    "| Live Review                | 2             |           |      This entire notebook!        | \n",
    "| **Total**                  | 5             |           |              |"
   ]
  },
  {
   "cell_type": "markdown",
   "metadata": {},
   "source": [
    "<h1> Project Overview!! </h1>\n",
    "\n",
    "Our main objective was to create something that was fun and interactive. Our game was supposed to be a place where DNHS students and can draw and post their pictures, kind of like an instagram for drawing. \n",
    "\n",
    "Key Features: \n",
    "- Voting room! Here, students can vote on drawings that they think look better, and we can choose weekly winners. \n",
    "- Chat room! Students are able to upload pictures of their drawing and have discussion about their artwork. They can also switch to different chats and have conversations with more than one person. \n",
    "- Drawing Post! This is the main feature of our website. We designed a canvas that looks similar to a whiteboard with various color that users can pick from to draw with. We also have an undo, erase, and clear button so final touches can be added. Finally, there is a save button that converts their drawing into a png that they can upload. "
   ]
  },
  {
   "cell_type": "markdown",
   "metadata": {},
   "source": [
    "<h1> Collaboration </h1>\n",
    "\n",
    "- Designing was done using Figma. \n",
    "- Organized all our code by staring the file names with \"doodle.\" \n",
    "- Most feedback we received on NTM was incorporated into our website. \n",
    "    (Go over the NTM comments now)"
   ]
  },
  {
   "cell_type": "markdown",
   "metadata": {},
   "source": [
    "<h1> Program Function </h1>\n",
    "All code is located on the flocker_frontend!"
   ]
  }
 ],
 "metadata": {
  "kernelspec": {
   "display_name": "venv",
   "language": "python",
   "name": "python3"
  },
  "language_info": {
   "name": "python",
   "version": "3.12.5"
  }
 },
 "nbformat": 4,
 "nbformat_minor": 2
}
