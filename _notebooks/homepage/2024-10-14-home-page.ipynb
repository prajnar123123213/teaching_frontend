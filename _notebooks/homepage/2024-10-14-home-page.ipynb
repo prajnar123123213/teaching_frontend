{
 "cells": [
  {
   "cell_type": "raw",
   "metadata": {},
   "source": [
    "---\n",
    "layout: post\n",
    "title: My Coding Journey\n",
    "description: Home page for Coding Progress\n",
    "courses: { csp: {week: 1} }\n",
    "comments: true\n",
    "sticky_rank: 1\n",
    "---"
   ]
  },
  {
   "cell_type": "markdown",
   "metadata": {},
   "source": [
    "# Sprint 1\n",
    "- Summary: We learned how to set up our VSCode websites and figure out how to navigate our terminal. We learned basic markdown and HTML to help us code a basic about me page that captures parts of our culture, personality, and life. \n"
   ]
  },
  {
   "cell_type": "markdown",
   "metadata": {},
   "source": [
    "## Hardships: \n",
    "- The biggest challenge during this Sprint was to be able get the inital start up. Naviagating through GitHub, making Slack accounts and just setting up everythin was really difficult. \n",
    "- Getting into pace, and learning how to spend time during class and home was also a challenge. "
   ]
  },
  {
   "cell_type": "markdown",
   "metadata": {},
   "source": [
    "## Hacks: \n",
    "- Learned how to make .ipynb files\n",
    "- Learned basic CSS\n",
    "- Learned how to add images and formatting (About Me Page)\n",
    "- Learned how to make submenus, etc\n",
    "- Get familiar with using GitHub (commits, actions, issues)"
   ]
  },
  {
   "cell_type": "markdown",
   "metadata": {},
   "source": [
    "# Sprint 2\n",
    "- Summary: Created and taught topics using both JavaScript and Python. We were tasked to create homework and popcorn hacks for each of our induvidual topics. We also learned how to share repos with our group members and work at the same time. "
   ]
  },
  {
   "cell_type": "markdown",
   "metadata": {},
   "source": [
    "## Hardships: \n",
    "- Figuring out how to share repos and work on the same thing at the same time. My group had a lot of trouble with merge errors and git pulling. This Sprint helped us get better at group work and being able to work done efficientaly. \n",
    "- The grading guides and homework hacks themselves were challenging. We didn't want to make our homework too hard, but we alo didn't want it to be a waste of time. Creating these lessons took a lot of time and planning. \n",
    "- Teaching and projecting your voice was scary at first. "
   ]
  },
  {
   "cell_type": "markdown",
   "metadata": {},
   "source": [
    "## Hacks: \n",
    "- Make a homepage in blogs that capsulates all of the lessona that we learned and taught. \n",
    "- Teach peers about the topic that you were assigned by creating popcorn and homework hacks. \n",
    "- Write a reflection that shows your progress and learning. "
   ]
  },
  {
   "cell_type": "markdown",
   "metadata": {},
   "source": [
    "# Sprint 3: \n",
    "- Summary: Make a game/ chat room or social media site for students of Del Norte to use and interact in. The main objective was to learn frontend and backend, and figure out how to connect the two. "
   ]
  },
  {
   "cell_type": "markdown",
   "metadata": {},
   "source": [
    "## Hardships: \n",
    "- This Sprint was just crazy hard. Almost every step of the way was a challenge, especially the backend. After trying for over 3 weeks, we barely have any backend progress done. \n",
    "- However, looking on the bright side, frontend also started off as a difficulty. However, now, out website looks a lot more presentable and fun to look out. We truly made a lot of progress on the frontend. I do wish that backend could've gone a little smoother. \n"
   ]
  },
  {
   "cell_type": "markdown",
   "metadata": {},
   "source": [
    "## Hacks:\n",
    "- Postman\n",
    "- Sigma frontend designing. "
   ]
  }
 ],
 "metadata": {
  "language_info": {
   "name": "python"
  }
 },
 "nbformat": 4,
 "nbformat_minor": 2
}
