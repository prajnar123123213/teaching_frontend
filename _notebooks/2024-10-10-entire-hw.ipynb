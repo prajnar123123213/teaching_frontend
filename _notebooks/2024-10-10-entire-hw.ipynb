{
 "cells": [
  {
   "cell_type": "markdown",
   "metadata": {},
   "source": [
    "---\n",
    "layout: post\n",
    "title: Home Page for All HW\n",
    "description: All notes and HW/Hacks\n",
    "courses: { csp: {week: 1} }\n",
    "comments: true\n",
    "sticky_rank: 1\n",
    "---"
   ]
  },
  {
   "cell_type": "markdown",
   "metadata": {},
   "source": [
    "<table>\n",
    "    <tr>\n",
    "     <td><a href=\"{{site.baseurl}}/threedashone/\">3.1,3.4</a></td> \n",
    "     <td><a href=\"{{site.baseurl}}/threedashtwo/\">3.2</a></td>\n",
    "     <td><a href=\"{{site.baseurl}}/threedashthreefive/\">3.3, 3.5</a></td>\n",
    "     <td><a href=\"{{site.baseurl}}/threedashsixandseven/\">3.6, 3.7</a></td>\n",
    "     <td><a href=\"{{site.baseurl}}/threedashten/\">3.10</a></td>\n",
    "     <td><a href=\"{{site.baseurl}}/summary/\">Summary</a></td>\n",
    "     <td><a href=\"{{site.baseurl}}/reflection/\">Reflection</a></td>\n",
    "\n",
    " </tr>\n",
    "</table>"
   ]
  },
  {
   "cell_type": "markdown",
   "metadata": {},
   "source": [
    "## Click on the Links above to navigate hacks, and buttons below for lessons!"
   ]
  },
  {
   "cell_type": "markdown",
   "metadata": {},
   "source": [
    "\n",
    "<a href=\"https://nighthawkcoders.github.io/portfolio_2025/csp/big-idea/p2/3-1\" target=\"_blank\">\n",
    "    <button style=\"background-color: #3f995a!important; display:inline-block; margin-right:10px; font-family: 'Courier New'\">3.1</button>\n",
    "</a>\n",
    "<a href=\"https://nighthawkcoders.github.io/portfolio_2025/csp/big-idea/p2/3-2/\" target=\"_blank\">\n",
    "<button style=\"background-color: #3f995a!important; display:inline-block; margin-right:10px; font-family: 'Courier New'\">3.2</button>\n",
    "</a>\n",
    "<a href=\"https://nighthawkcoders.github.io/portfolio_2025/csp/big-idea/p2/3-3\" target=\"_blank\">\n",
    "<button style=\"background-color: #3f995a!important; display:inline-block; margin-right:10px; font-family: 'Courier New'\">3.3</button>\n",
    "</a>\n",
    "<a href=\"https://nighthawkcoders.github.io/portfolio_2025/csp/big-idea/p2/3-4\" target=\"_blank\">\n",
    "<button style=\"background-color: #3f995a!important; display:inline-block; margin-right:10px; font-family: 'Courier New'\">3.4</button>\n",
    "</a>\n",
    "<a href=\"https://nighthawkcoders.github.io/portfolio_2025/csp/big-idea/p2/3-5\" target=\"_blank\">\n",
    "<button style=\"background-color: #3f995a!important; display:inline-block; margin-right:10px;font-family: 'Courier New'\">3.5</button>\n",
    "</a>\n",
    "<a href=\"https://nighthawkcoders.github.io/portfolio_2025/csp/big-idea/p2/3-6\" target=\"_blank\">\n",
    "<button style=\"background-color: #3f995a!important; display:inline-block; margin-right:10px; font-family: 'Courier New'\">3.6</button>\n",
    "</a>\n",
    "<a href=\"https://nighthawkcoders.github.io/portfolio_2025/csp/big-idea/p2/3-7\" target=\"_blank\">\n",
    "<button style=\"background-color: #3f995a!important; display:inline-block; margin-right:10px; font-family: 'Courier New'\">3.7</button>\n",
    "</a>\n",
    "<a href=\"https://nighthawkcoders.github.io/portfolio_2025/csp/big-idea/p2/3-10\" target=\"_blank\">\n",
    "<button style=\"background-color: #3f995a!important; display:inline-block; margin-right:10px; font-family: 'Courier New'\">3.10</button>\n",
    "</a>\n",
    "\n"
   ]
  },
  {
   "cell_type": "markdown",
   "metadata": {},
   "source": []
  }
 ],
 "metadata": {
  "kernelspec": {
   "display_name": "venv",
   "language": "python",
   "name": "python3"
  },
  "language_info": {
   "codemirror_mode": {
    "name": "ipython",
    "version": 3
   },
   "file_extension": ".py",
   "mimetype": "text/x-python",
   "name": "python",
   "nbconvert_exporter": "python",
   "pygments_lexer": "ipython3",
   "version": "3.12.5"
  }
 },
 "nbformat": 4,
 "nbformat_minor": 2
}
